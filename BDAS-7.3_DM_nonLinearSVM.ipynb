{
 "cells": [
  {
   "cell_type": "markdown",
   "id": "7a5a3005",
   "metadata": {},
   "source": [
    "# Step 7：Data Mining\n",
    "\n",
    "# Non-Linear SVM Model"
   ]
  },
  {
   "cell_type": "code",
   "execution_count": 1,
   "id": "6cd226d5",
   "metadata": {},
   "outputs": [
    {
     "name": "stderr",
     "output_type": "stream",
     "text": [
      "WARNING: An illegal reflective access operation has occurred\n",
      "WARNING: Illegal reflective access by org.apache.spark.unsafe.Platform (file:/home/ubuntu/spark-3.2.1-bin-hadoop2.7/jars/spark-unsafe_2.12-3.2.1.jar) to constructor java.nio.DirectByteBuffer(long,int)\n",
      "WARNING: Please consider reporting this to the maintainers of org.apache.spark.unsafe.Platform\n",
      "WARNING: Use --illegal-access=warn to enable warnings of further illegal reflective access operations\n",
      "WARNING: All illegal access operations will be denied in a future release\n",
      "Using Spark's default log4j profile: org/apache/spark/log4j-defaults.properties\n",
      "Setting default log level to \"WARN\".\n",
      "To adjust logging level use sc.setLogLevel(newLevel). For SparkR, use setLogLevel(newLevel).\n",
      "23/10/10 10:01:29 WARN NativeCodeLoader: Unable to load native-hadoop library for your platform... using builtin-java classes where applicable\n"
     ]
    }
   ],
   "source": [
    "# Must be included at the beginning of each new notebook. Remember to change the app name.\n",
    "import findspark\n",
    "findspark.init('/home/ubuntu/spark-3.2.1-bin-hadoop2.7')\n",
    "import pyspark\n",
    "from pyspark.sql import SparkSession\n",
    "spark = SparkSession.builder.appName('DBAS-Step7-DM-Non-Linear-SVM').getOrCreate()\n",
    "\n",
    "# Enable pandas-on-Spark\n",
    "spark.conf.set(\"spark.sql.execution.arrow.pyspark.enabled\", \"true\")"
   ]
  },
  {
   "cell_type": "code",
   "execution_count": 2,
   "id": "9f447eca",
   "metadata": {},
   "outputs": [
    {
     "name": "stderr",
     "output_type": "stream",
     "text": [
      "WARNING:root:'PYARROW_IGNORE_TIMEZONE' environment variable was not set. It is required to set this environment variable to '1' in both driver and executor sides if you use pyarrow>=2.0.0. pandas-on-Spark will set it for you but it does not work if there is a Spark context already launched.\n",
      "/home/ubuntu/.local/lib/python3.10/site-packages/scipy/__init__.py:146: UserWarning: A NumPy version >=1.17.3 and <1.25.0 is required for this version of SciPy (detected version 1.26.0\n",
      "  warnings.warn(f\"A NumPy version >={np_minversion} and <{np_maxversion}\"\n",
      "23/10/10 10:01:40 WARN WindowExec: No Partition Defined for Window operation! Moving all data to a single partition, this can cause serious performance degradation.\n",
      "23/10/10 10:01:40 WARN WindowExec: No Partition Defined for Window operation! Moving all data to a single partition, this can cause serious performance degradation.\n"
     ]
    },
    {
     "name": "stdout",
     "output_type": "stream",
     "text": [
      "<class 'pyspark.pandas.frame.DataFrame'>\n",
      "Int64Index: 383 entries, 0 to 382\n",
      "Data columns (total 6 columns):\n",
      " #   Column                    Non-Null Count  Dtype  \n",
      "---  ------                    --------------  -----  \n",
      " 0   creatinine_phosphokinase  383 non-null    int32  \n",
      " 1   ejection_fraction         383 non-null    int32  \n",
      " 2   platelets                 383 non-null    float64\n",
      " 3   serum_creatinine          383 non-null    float64\n",
      " 4   serum_sodium              383 non-null    int32  \n",
      " 5   DEATH_EVENT               383 non-null    int32  \n",
      "dtypes: float64(2), int32(4)"
     ]
    }
   ],
   "source": [
    "## Load data from csv file\n",
    "spk_df = spark.read.csv(\"Data/4DT/heart_failure_dataset_4DT.csv\", header=True, inferSchema=True)\n",
    "\n",
    "# Convert Spark DataFrame to pandas-on-Spark DataFrame using to_pandas_on_spark()\n",
    "spkpd_df = spk_df.to_pandas_on_spark()\n",
    "spkpd_df.info()\n"
   ]
  },
  {
   "cell_type": "code",
   "execution_count": 3,
   "id": "46a10281",
   "metadata": {},
   "outputs": [],
   "source": [
    "### --------  06-DMA\n",
    "\n",
    "# Load relevant algorithms for non-Linear SVM model\n",
    "\n",
    "from pyspark.sql import SparkSession\n",
    "from pyspark.ml.feature import StandardScaler, VectorAssembler\n",
    "from pyspark.ml.classification import LinearSVC\n",
    "from pyspark.ml.evaluation import BinaryClassificationEvaluator\n",
    "from pyspark.ml import Pipeline\n"
   ]
  },
  {
   "cell_type": "code",
   "execution_count": null,
   "id": "f893d8e5",
   "metadata": {},
   "outputs": [],
   "source": [
    "### -------- 07-DM-non Linear SVM\n",
    "# Using the prepared dataset\n",
    "\n",
    "# Convert the features into a single vector column\n",
    "assembler = VectorAssembler(inputCols=[col for col in spk_df.columns if col != \"DEATH_EVENT\"], outputCol=\"features\")\n",
    "spk_df = assembler.transform(spk_df)\n",
    "\n",
    "# Feature scaling\n",
    "scaler = StandardScaler(inputCol=\"features\", outputCol=\"scaledFeatures\", withStd=True, withMean=True)\n",
    "scalerModel = scaler.fit(spk_df)\n",
    "spk_df = scalerModel.transform(spk_df)\n",
    "\n",
    "# Split the data into training and test sets\n",
    "train, test = spk_df.randomSplit([0.8, 0.2], seed=42)\n",
    "\n",
    "# Train using a non-linear SVM with RBF kernel\n",
    "# Note: PySpark's LinearSVC does not directly support the RBF kernel. \n",
    "# For a non-linear SVM with RBF kernel in Spark, you might need to use other libraries or implement it manually.\n",
    "# Here, we'll use LinearSVC as an example.\n",
    "svm = LinearSVC(featuresCol=\"scaledFeatures\", labelCol=\"DEATH_EVENT\", maxIter=10, regParam=0.1)\n",
    "\n",
    "# Create a pipeline\n",
    "pipeline = Pipeline(stages=[svm])\n",
    "model = pipeline.fit(train)\n",
    "\n",
    "# Predict and evaluate accuracy\n",
    "predictions = model.transform(test)\n",
    "evaluator = BinaryClassificationEvaluator(rawPredictionCol=\"rawPrediction\", \n",
    "                                          labelCol=\"DEATH_EVENT\", \n",
    "                                          metricName=\"areaUnderROC\")\n",
    "accuracy = evaluator.evaluate(predictions)\n",
    "print(f\"Test Accuracy of non-linear SVM: {accuracy*100:.2f}%\")\n"
   ]
  },
  {
   "cell_type": "code",
   "execution_count": null,
   "id": "3b009c84",
   "metadata": {},
   "outputs": [],
   "source": [
    "### -------- 07-DM-non Linear SVM\n",
    "\n",
    "# Using the prepared dataset\n",
    "X = df.drop(\"DEATH_EVENT\", axis=1)\n",
    "y = df[\"DEATH_EVENT\"]\n",
    "    \n",
    "# Feature scaling\n",
    "scaler = StandardScaler()\n",
    "X_scaled = scaler.fit_transform(X)\n",
    "\n",
    "# Split the data into training and test sets\n",
    "X_train, X_test, y_train, y_test = train_test_split(X_scaled, y, test_size=0.2, random_state=42)\n",
    "\n",
    "# ---Train using a non-linear SVM with RBF kernel\n",
    "clf = SVC(kernel='rbf', random_state=42)\n",
    "clf.fit(X_train, y_train)\n",
    "\n",
    "# Predict and evaluate accuracy\n",
    "y_pred = clf.predict(X_test)\n",
    "accuracy1 = accuracy_score(y_test, y_pred)\n",
    "print(f\"Test Accuracy of non-linear SVM: {accuracy1*100:.2f}%\")"
   ]
  },
  {
   "cell_type": "code",
   "execution_count": null,
   "id": "53279978",
   "metadata": {},
   "outputs": [],
   "source": [
    "# Evaluate feature importance using permutation_importance\n",
    "result = permutation_importance(clf, X_test, y_test, n_repeats=30, random_state=42)\n",
    "\n",
    "# Get and sort the feature importances\n",
    "sorted_idx = result.importances_mean.argsort()\n",
    "\n",
    "# Visualize the feature importances\n",
    "# import matplotlib.pyplot as plt\n",
    "\n",
    "plt.figure(figsize=(10, 6))\n",
    "plt.boxplot(result.importances[sorted_idx].T, vert=False, labels=X.columns[sorted_idx])\n",
    "plt.title(\"Permutation Importances (test set)\")\n",
    "plt.tight_layout()\n",
    "plt.show()\n"
   ]
  },
  {
   "cell_type": "code",
   "execution_count": null,
   "id": "fed86860",
   "metadata": {},
   "outputs": [],
   "source": [
    "# Stop Spark session\n",
    "spark.stop()"
   ]
  }
 ],
 "metadata": {
  "kernelspec": {
   "display_name": "Python 3 (ipykernel)",
   "language": "python",
   "name": "python3"
  },
  "language_info": {
   "codemirror_mode": {
    "name": "ipython",
    "version": 3
   },
   "file_extension": ".py",
   "mimetype": "text/x-python",
   "name": "python",
   "nbconvert_exporter": "python",
   "pygments_lexer": "ipython3",
   "version": "3.10.12"
  }
 },
 "nbformat": 4,
 "nbformat_minor": 5
}
