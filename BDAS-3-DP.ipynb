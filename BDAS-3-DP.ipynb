{
 "cells": [
  {
   "cell_type": "code",
   "execution_count": null,
   "id": "96d607f9",
   "metadata": {},
   "outputs": [],
   "source": [
    "# Must be included at the beginning of each new notebook. Remember to change the app name.\n",
    "import findspark\n",
    "findspark.init('/home/ubuntu/spark-3.2.1-bin-hadoop2.7')\n",
    "import pyspark\n",
    "from pyspark.sql import SparkSession\n",
    "spark = SparkSession.builder.appName('DBAS-Step2-Data Understanding').getOrCreate()\n",
    "\n",
    "# Enable pandas-on-Spark\n",
    "spark.conf.set(\"spark.sql.execution.arrow.pyspark.enabled\", \"true\")\n",
    "print(pyspark.__version__)\n"
   ]
  },
  {
   "cell_type": "code",
   "execution_count": null,
   "id": "6f219f4e",
   "metadata": {},
   "outputs": [],
   "source": [
    "## Load data from csv file\n",
    "spk_df = spark.read.csv(\"Data/heart_failure_dataset_raw.csv\", header=True, inferSchema=True)\n",
    "spk_df.printSchema()\n",
    "\n",
    "# Convert Spark DataFrame to pandas-on-Spark DataFrame using to_pandas_on_spark()\n",
    "spkpd_df = spk_df.to_pandas_on_spark()\n",
    "spkpd_df.info()\n",
    "spkpd_df.head()\n"
   ]
  },
  {
   "cell_type": "code",
   "execution_count": null,
   "id": "63e1ab25",
   "metadata": {},
   "outputs": [],
   "source": [
    "#### ----------03-DP \n",
    "\n",
    "# Add any data preparation approaches for following DM steps\n",
    "\n",
    "## Convert the data types\n",
    "print(\"--------- Before converting -----------------------------------\")\n",
    "print(spkpd_df.dtypes)\n",
    "spkpd_df = spkpd_df.astype({\n",
    "    'anaemia' : bool, \n",
    "    'high_blood_pressure' : bool, \n",
    "    'smoking' : bool, \n",
    "    'diabetes' : bool, \n",
    "    'DEATH_EVENT' : bool,\n",
    "    'sex' : bool,\n",
    "    })\n",
    "\n",
    "print(\"--------- After converting -----------------------------------\")\n",
    "print(spkpd_df.dtypes)"
   ]
  },
  {
   "cell_type": "code",
   "execution_count": null,
   "id": "f82f9ba6",
   "metadata": {},
   "outputs": [],
   "source": [
    "spkpd_df.info()\n",
    "print(\"---------\")"
   ]
  },
  {
   "cell_type": "code",
   "execution_count": null,
   "id": "54c79a48",
   "metadata": {},
   "outputs": [],
   "source": [
    "## Change age from numeric to categorical 1\n",
    "from pyspark.sql.functions import when\n",
    "\n",
    "# Define the bins and labels\n",
    "bins = [40, 50, 60, 70, 80, 100]\n",
    "labels = ['age_40', 'age_50', 'age_60', 'age_70', 'age_80']\n",
    "\n",
    "# Initialize Age_Level column with null values\n",
    "spk_df = spkpd_df.to_spark()\n",
    "spk_df = spk_df.withColumn(\"Age_Level\", when(spk_df[\"age\"].isNull(), None).otherwise(None))\n",
    "\n",
    "# Create the Age_Level column using when conditions\n",
    "for i in range(len(bins) - 1):\n",
    "    spk_df = spk_df.withColumn(\n",
    "        \"Age_Level\",\n",
    "        when((spk_df[\"age\"] >= bins[i]) & (spk_df[\"age\"] < bins[i + 1]), labels[i]).otherwise(spk_df[\"Age_Level\"])\n",
    "    )\n",
    "\n",
    "\n",
    "# Convert Spark DataFrame to pandas-on-Spark DataFrame\n",
    "spkpd_df = spk_df.to_pandas_on_spark()\n",
    "print(\"--------- Age_Level was added -----------------------------------\")\n",
    "spkpd_df.info()\n",
    "spkpd_df.head()"
   ]
  },
  {
   "cell_type": "code",
   "execution_count": null,
   "id": "82f11bac",
   "metadata": {},
   "outputs": [],
   "source": [
    "# First, we have to register the DataFrame as a SQL temporary view.\n",
    "spk_df.createOrReplaceTempView('patients')\n",
    "\n",
    "# Here's another example:\n",
    "results = spark.sql(\"SELECT age, Age_Level FROM patients\")\n",
    "results.show()"
   ]
  },
  {
   "cell_type": "code",
   "execution_count": null,
   "id": "2a2bcbe0",
   "metadata": {},
   "outputs": [],
   "source": [
    "## Change age from numeric to categorical 1\n",
    "# Add Visualisations\n",
    "import matplotlib.pyplot as plt\n",
    "from pyspark.pandas.config import set_option\n",
    "set_option(\"plotting.backend\", \"matplotlib\")\n",
    "\n",
    "# Order by counts\n",
    "fig, ax = plt.subplots()\n",
    "spkpd_df['Age_Level'].value_counts().plot.bar(ax=ax)\n",
    "ax.set_xlabel('Age_Level')\n",
    "ax.set_ylabel('Count')\n",
    "ax.set_title('Distribution of Age_Level')\n",
    "\n",
    "# Order by labels\n",
    "fig, ax = plt.subplots()\n",
    "spkpd_df['Age_Level'].value_counts().reindex(labels).plot.bar(ax=ax)\n",
    "ax.set_xlabel('Age_Level')\n",
    "ax.set_ylabel('Count')\n",
    "ax.set_title('Distribution of Age_Level')\n"
   ]
  },
  {
   "cell_type": "code",
   "execution_count": null,
   "id": "53398999",
   "metadata": {},
   "outputs": [],
   "source": [
    "import seaborn as sns\n",
    "\n",
    "columns_to_cap = ['serum_sodium', 'serum_creatinine', 'creatinine_phosphokinase', 'platelets']\n",
    "\n",
    "for col in columns_to_cap:\n",
    "    \n",
    "    # Boxplot before capping\n",
    "    sns.boxplot(x=spkpd_df[col].to_numpy())\n",
    "    #plt.title(\"Boxplot before capping\")\n",
    "    plt.title(f\"Boxplot of {col} before capping\")\n",
    "    plt.show()\n"
   ]
  },
  {
   "cell_type": "code",
   "execution_count": null,
   "id": "ccd85dab",
   "metadata": {},
   "outputs": [],
   "source": [
    "\n",
    "#### Handle extremes\n",
    "\n",
    "columns_to_cap = ['serum_sodium', 'serum_creatinine', 'creatinine_phosphokinase', 'platelets']\n",
    "\n",
    "for col in columns_to_cap:\n",
    "\n",
    "    Q1 = spkpd_df[col].quantile(0.25)\n",
    "    Q3 = spkpd_df[col].quantile(0.75)\n",
    "    IQR = Q3 - Q1\n",
    "\n",
    "    lower_limit = Q1 - 3 * IQR\n",
    "    upper_limit = Q3 + 3 * IQR\n",
    "    \n",
    "    \n",
    "    # Handle extremes\n",
    "    spkpd_df[col] = spkpd_df[col].apply(lambda x: upper_limit \n",
    "                                        if x > upper_limit \n",
    "                                        else (lower_limit if x < lower_limit \n",
    "                                              else x))                                \n",
    "    "
   ]
  },
  {
   "cell_type": "code",
   "execution_count": null,
   "id": "196f3ee3",
   "metadata": {},
   "outputs": [],
   "source": [
    "columns_to_cap = ['serum_sodium', 'serum_creatinine', 'creatinine_phosphokinase', 'platelets']\n",
    "\n",
    "for col in columns_to_cap:\n",
    "    # Boxplot after capping\n",
    "    sns.boxplot(x=spkpd_df[col].to_numpy(), color='skyblue')\n",
    "    #plt.title(\"Boxplot after capping\")\n",
    "    plt.title(f\"Boxplot of {col} after capping\")\n",
    "    plt.show()"
   ]
  },
  {
   "cell_type": "code",
   "execution_count": null,
   "id": "67a2260f",
   "metadata": {},
   "outputs": [],
   "source": [
    "spkpd_df.info()\n",
    "spk_df.printSchema()"
   ]
  },
  {
   "cell_type": "code",
   "execution_count": null,
   "id": "0038201e",
   "metadata": {},
   "outputs": [],
   "source": [
    "## Change days to months\n",
    "from pyspark.sql import functions as F\n",
    "\n",
    "# Change days to months\n",
    "spk_df = spk_df.withColumn('follow_up_month', spk_df['time'] / 30)\n",
    "\n",
    "\n",
    "spk_df.printSchema()\n",
    "spkpd_df.info()\n",
    "print(\"-----------------------\")\n",
    "\n",
    "# Register the DataFrame as a SQL temporary view\n",
    "spk_df.createOrReplaceTempView('patients')\n",
    "\n",
    "# Execute SQL query\n",
    "results = spark.sql(\"SELECT time, follow_up_month FROM patients\")\n",
    "results.show()\n"
   ]
  },
  {
   "cell_type": "code",
   "execution_count": null,
   "id": "10ebde06",
   "metadata": {},
   "outputs": [],
   "source": [
    "# Format the follow_up_month\n",
    "spk_df = spk_df.withColumn('follow_up_month', F.round(spk_df['follow_up_month'], 2))\n",
    "\n",
    "# Register the DataFrame as a SQL temporary view\n",
    "spk_df.createOrReplaceTempView('patients')\n",
    "\n",
    "# Execute SQL query\n",
    "results = spark.sql(\"SELECT time, follow_up_month FROM patients\")\n",
    "results.show()\n"
   ]
  },
  {
   "cell_type": "code",
   "execution_count": null,
   "id": "b934c3ae",
   "metadata": {
    "scrolled": true
   },
   "outputs": [],
   "source": [
    "\n",
    "# Convert Spark DataFrame to pandas-on-Spark DataFrame\n",
    "spkpd_df = spk_df.to_pandas_on_spark()\n",
    "spkpd_df.info()\n",
    "spkpd_df.head()"
   ]
  },
  {
   "cell_type": "code",
   "execution_count": null,
   "id": "553d051e",
   "metadata": {},
   "outputs": [],
   "source": [
    "# 保存为 CSV 文件\n",
    "spk_df.write.csv(\"Data/3DP\", header=True)"
   ]
  },
  {
   "cell_type": "code",
   "execution_count": null,
   "id": "c3af7284",
   "metadata": {},
   "outputs": [],
   "source": [
    "# Stop Spark session\n",
    "spark.stop()"
   ]
  }
 ],
 "metadata": {
  "kernelspec": {
   "display_name": "Python 3 (ipykernel)",
   "language": "python",
   "name": "python3"
  },
  "language_info": {
   "codemirror_mode": {
    "name": "ipython",
    "version": 3
   },
   "file_extension": ".py",
   "mimetype": "text/x-python",
   "name": "python",
   "nbconvert_exporter": "python",
   "pygments_lexer": "ipython3",
   "version": "3.10.12"
  }
 },
 "nbformat": 4,
 "nbformat_minor": 5
}
