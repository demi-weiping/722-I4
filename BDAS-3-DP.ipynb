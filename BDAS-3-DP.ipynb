{
 "cells": [
  {
   "cell_type": "code",
   "execution_count": 1,
   "id": "96d607f9",
   "metadata": {},
   "outputs": [
    {
     "name": "stderr",
     "output_type": "stream",
     "text": [
      "WARNING: An illegal reflective access operation has occurred\n",
      "WARNING: Illegal reflective access by org.apache.spark.unsafe.Platform (file:/home/ubuntu/spark-3.2.1-bin-hadoop2.7/jars/spark-unsafe_2.12-3.2.1.jar) to constructor java.nio.DirectByteBuffer(long,int)\n",
      "WARNING: Please consider reporting this to the maintainers of org.apache.spark.unsafe.Platform\n",
      "WARNING: Use --illegal-access=warn to enable warnings of further illegal reflective access operations\n",
      "WARNING: All illegal access operations will be denied in a future release\n",
      "Using Spark's default log4j profile: org/apache/spark/log4j-defaults.properties\n",
      "Setting default log level to \"WARN\".\n",
      "To adjust logging level use sc.setLogLevel(newLevel). For SparkR, use setLogLevel(newLevel).\n",
      "23/10/10 06:24:51 WARN NativeCodeLoader: Unable to load native-hadoop library for your platform... using builtin-java classes where applicable\n"
     ]
    },
    {
     "name": "stdout",
     "output_type": "stream",
     "text": [
      "3.2.1\n"
     ]
    }
   ],
   "source": [
    "# Must be included at the beginning of each new notebook. Remember to change the app name.\n",
    "import findspark\n",
    "findspark.init('/home/ubuntu/spark-3.2.1-bin-hadoop2.7')\n",
    "import pyspark\n",
    "from pyspark.sql import SparkSession\n",
    "spark = SparkSession.builder.appName('DBAS-Step2-Data Understanding').getOrCreate()\n",
    "\n",
    "# Enable pandas-on-Spark\n",
    "spark.conf.set(\"spark.sql.execution.arrow.pyspark.enabled\", \"true\")\n",
    "print(pyspark.__version__)\n"
   ]
  },
  {
   "cell_type": "code",
   "execution_count": 2,
   "id": "6f219f4e",
   "metadata": {},
   "outputs": [
    {
     "name": "stdout",
     "output_type": "stream",
     "text": [
      "root\n",
      " |-- age: double (nullable = true)\n",
      " |-- anaemia: integer (nullable = true)\n",
      " |-- creatinine_phosphokinase: integer (nullable = true)\n",
      " |-- diabetes: integer (nullable = true)\n",
      " |-- ejection_fraction: integer (nullable = true)\n",
      " |-- high_blood_pressure: integer (nullable = true)\n",
      " |-- platelets: double (nullable = true)\n",
      " |-- serum_creatinine: double (nullable = true)\n",
      " |-- serum_sodium: integer (nullable = true)\n",
      " |-- sex: integer (nullable = true)\n",
      " |-- smoking: integer (nullable = true)\n",
      " |-- time: integer (nullable = true)\n",
      " |-- DEATH_EVENT: integer (nullable = true)\n",
      "\n"
     ]
    },
    {
     "name": "stderr",
     "output_type": "stream",
     "text": [
      "WARNING:root:'PYARROW_IGNORE_TIMEZONE' environment variable was not set. It is required to set this environment variable to '1' in both driver and executor sides if you use pyarrow>=2.0.0. pandas-on-Spark will set it for you but it does not work if there is a Spark context already launched.\n",
      "23/10/10 06:25:03 WARN WindowExec: No Partition Defined for Window operation! Moving all data to a single partition, this can cause serious performance degradation.\n",
      "23/10/10 06:25:03 WARN WindowExec: No Partition Defined for Window operation! Moving all data to a single partition, this can cause serious performance degradation.\n"
     ]
    },
    {
     "name": "stdout",
     "output_type": "stream",
     "text": [
      "<class 'pyspark.pandas.frame.DataFrame'>\n",
      "Int64Index: 299 entries, 0 to 298\n",
      "Data columns (total 13 columns):\n",
      " #   Column                    Non-Null Count  Dtype  \n",
      "---  ------                    --------------  -----  \n",
      " 0   age                       299 non-null    float64\n",
      " 1   anaemia                   299 non-null    int32  \n",
      " 2   creatinine_phosphokinase  299 non-null    int32  \n",
      " 3   diabetes                  299 non-null    int32  \n",
      " 4   ejection_fraction         299 non-null    int32  \n",
      " 5   high_blood_pressure       299 non-null    int32  \n",
      " 6   platelets                 299 non-null    float64\n",
      " 7   serum_creatinine          299 non-null    float64\n",
      " 8   serum_sodium              299 non-null    int32  \n",
      " 9   sex                       299 non-null    int32  \n",
      " 10  smoking                   299 non-null    int32  \n",
      " 11  time                      299 non-null    int32  \n",
      " 12  DEATH_EVENT               299 non-null    int32  \n",
      "dtypes: float64(3), int32(10)"
     ]
    },
    {
     "name": "stderr",
     "output_type": "stream",
     "text": [
      "23/10/10 06:25:04 WARN WindowExec: No Partition Defined for Window operation! Moving all data to a single partition, this can cause serious performance degradation.\n",
      "23/10/10 06:25:04 WARN WindowExec: No Partition Defined for Window operation! Moving all data to a single partition, this can cause serious performance degradation.\n"
     ]
    },
    {
     "data": {
      "text/html": [
       "<div>\n",
       "<style scoped>\n",
       "    .dataframe tbody tr th:only-of-type {\n",
       "        vertical-align: middle;\n",
       "    }\n",
       "\n",
       "    .dataframe tbody tr th {\n",
       "        vertical-align: top;\n",
       "    }\n",
       "\n",
       "    .dataframe thead th {\n",
       "        text-align: right;\n",
       "    }\n",
       "</style>\n",
       "<table border=\"1\" class=\"dataframe\">\n",
       "  <thead>\n",
       "    <tr style=\"text-align: right;\">\n",
       "      <th></th>\n",
       "      <th>age</th>\n",
       "      <th>anaemia</th>\n",
       "      <th>creatinine_phosphokinase</th>\n",
       "      <th>diabetes</th>\n",
       "      <th>ejection_fraction</th>\n",
       "      <th>high_blood_pressure</th>\n",
       "      <th>platelets</th>\n",
       "      <th>serum_creatinine</th>\n",
       "      <th>serum_sodium</th>\n",
       "      <th>sex</th>\n",
       "      <th>smoking</th>\n",
       "      <th>time</th>\n",
       "      <th>DEATH_EVENT</th>\n",
       "    </tr>\n",
       "  </thead>\n",
       "  <tbody>\n",
       "    <tr>\n",
       "      <th>0</th>\n",
       "      <td>75.0</td>\n",
       "      <td>0</td>\n",
       "      <td>582</td>\n",
       "      <td>0</td>\n",
       "      <td>20</td>\n",
       "      <td>1</td>\n",
       "      <td>265000.00</td>\n",
       "      <td>1.9</td>\n",
       "      <td>130</td>\n",
       "      <td>1</td>\n",
       "      <td>0</td>\n",
       "      <td>4</td>\n",
       "      <td>1</td>\n",
       "    </tr>\n",
       "    <tr>\n",
       "      <th>1</th>\n",
       "      <td>55.0</td>\n",
       "      <td>0</td>\n",
       "      <td>7861</td>\n",
       "      <td>0</td>\n",
       "      <td>38</td>\n",
       "      <td>0</td>\n",
       "      <td>263358.03</td>\n",
       "      <td>1.1</td>\n",
       "      <td>136</td>\n",
       "      <td>1</td>\n",
       "      <td>0</td>\n",
       "      <td>6</td>\n",
       "      <td>1</td>\n",
       "    </tr>\n",
       "    <tr>\n",
       "      <th>2</th>\n",
       "      <td>65.0</td>\n",
       "      <td>0</td>\n",
       "      <td>146</td>\n",
       "      <td>0</td>\n",
       "      <td>20</td>\n",
       "      <td>0</td>\n",
       "      <td>162000.00</td>\n",
       "      <td>1.3</td>\n",
       "      <td>129</td>\n",
       "      <td>1</td>\n",
       "      <td>1</td>\n",
       "      <td>7</td>\n",
       "      <td>1</td>\n",
       "    </tr>\n",
       "    <tr>\n",
       "      <th>3</th>\n",
       "      <td>50.0</td>\n",
       "      <td>1</td>\n",
       "      <td>111</td>\n",
       "      <td>0</td>\n",
       "      <td>20</td>\n",
       "      <td>0</td>\n",
       "      <td>210000.00</td>\n",
       "      <td>1.9</td>\n",
       "      <td>137</td>\n",
       "      <td>1</td>\n",
       "      <td>0</td>\n",
       "      <td>7</td>\n",
       "      <td>1</td>\n",
       "    </tr>\n",
       "    <tr>\n",
       "      <th>4</th>\n",
       "      <td>65.0</td>\n",
       "      <td>1</td>\n",
       "      <td>160</td>\n",
       "      <td>1</td>\n",
       "      <td>20</td>\n",
       "      <td>0</td>\n",
       "      <td>327000.00</td>\n",
       "      <td>2.7</td>\n",
       "      <td>116</td>\n",
       "      <td>0</td>\n",
       "      <td>0</td>\n",
       "      <td>8</td>\n",
       "      <td>1</td>\n",
       "    </tr>\n",
       "  </tbody>\n",
       "</table>\n",
       "</div>"
      ],
      "text/plain": [
       "    age  anaemia  creatinine_phosphokinase  diabetes  ejection_fraction  high_blood_pressure  platelets  serum_creatinine  serum_sodium  sex  smoking  time  DEATH_EVENT\n",
       "0  75.0        0                       582         0                 20                    1  265000.00               1.9           130    1        0     4            1\n",
       "1  55.0        0                      7861         0                 38                    0  263358.03               1.1           136    1        0     6            1\n",
       "2  65.0        0                       146         0                 20                    0  162000.00               1.3           129    1        1     7            1\n",
       "3  50.0        1                       111         0                 20                    0  210000.00               1.9           137    1        0     7            1\n",
       "4  65.0        1                       160         1                 20                    0  327000.00               2.7           116    0        0     8            1"
      ]
     },
     "execution_count": 2,
     "metadata": {},
     "output_type": "execute_result"
    }
   ],
   "source": [
    "## Load data from csv file\n",
    "spk_df = spark.read.csv(\"Data/heart_failure_dataset_raw.csv\", header=True, inferSchema=True)\n",
    "spk_df.printSchema()\n",
    "\n",
    "# Convert Spark DataFrame to pandas-on-Spark DataFrame using to_pandas_on_spark()\n",
    "spkpd_df = spk_df.to_pandas_on_spark()\n",
    "spkpd_df.info()\n",
    "spkpd_df.head()\n"
   ]
  },
  {
   "cell_type": "code",
   "execution_count": 3,
   "id": "63e1ab25",
   "metadata": {},
   "outputs": [
    {
     "name": "stdout",
     "output_type": "stream",
     "text": [
      "--------- Before converting -----------------------------------\n",
      "age                         float64\n",
      "anaemia                       int32\n",
      "creatinine_phosphokinase      int32\n",
      "diabetes                      int32\n",
      "ejection_fraction             int32\n",
      "high_blood_pressure           int32\n",
      "platelets                   float64\n",
      "serum_creatinine            float64\n",
      "serum_sodium                  int32\n",
      "sex                           int32\n",
      "smoking                       int32\n",
      "time                          int32\n",
      "DEATH_EVENT                   int32\n",
      "dtype: object\n",
      "--------- After converting -----------------------------------\n",
      "age                         float64\n",
      "anaemia                        bool\n",
      "creatinine_phosphokinase      int32\n",
      "diabetes                       bool\n",
      "ejection_fraction             int32\n",
      "high_blood_pressure            bool\n",
      "platelets                   float64\n",
      "serum_creatinine            float64\n",
      "serum_sodium                  int32\n",
      "sex                            bool\n",
      "smoking                        bool\n",
      "time                          int32\n",
      "DEATH_EVENT                    bool\n",
      "dtype: object\n"
     ]
    }
   ],
   "source": [
    "#### ----------03-DP \n",
    "\n",
    "# Add any data preparation approaches for following DM steps\n",
    "\n",
    "## Convert the data types\n",
    "print(\"--------- Before converting -----------------------------------\")\n",
    "print(spkpd_df.dtypes)\n",
    "spkpd_df = spkpd_df.astype({\n",
    "    'anaemia' : bool, \n",
    "    'high_blood_pressure' : bool, \n",
    "    'smoking' : bool, \n",
    "    'diabetes' : bool, \n",
    "    'DEATH_EVENT' : bool,\n",
    "    'sex' : bool,\n",
    "    })\n",
    "\n",
    "print(\"--------- After converting -----------------------------------\")\n",
    "print(spkpd_df.dtypes)"
   ]
  },
  {
   "cell_type": "code",
   "execution_count": 4,
   "id": "f82f9ba6",
   "metadata": {},
   "outputs": [
    {
     "name": "stderr",
     "output_type": "stream",
     "text": [
      "23/10/10 06:25:06 WARN WindowExec: No Partition Defined for Window operation! Moving all data to a single partition, this can cause serious performance degradation.\n",
      "23/10/10 06:25:06 WARN WindowExec: No Partition Defined for Window operation! Moving all data to a single partition, this can cause serious performance degradation.\n"
     ]
    },
    {
     "name": "stdout",
     "output_type": "stream",
     "text": [
      "<class 'pyspark.pandas.frame.DataFrame'>\n",
      "Int64Index: 299 entries, 0 to 298\n",
      "Data columns (total 13 columns):\n",
      " #   Column                    Non-Null Count  Dtype  \n",
      "---  ------                    --------------  -----  \n",
      " 0   age                       299 non-null    float64\n",
      " 1   anaemia                   299 non-null    bool   \n",
      " 2   creatinine_phosphokinase  299 non-null    int32  \n",
      " 3   diabetes                  299 non-null    bool   \n",
      " 4   ejection_fraction         299 non-null    int32  \n",
      " 5   high_blood_pressure       299 non-null    bool   \n",
      " 6   platelets                 299 non-null    float64\n",
      " 7   serum_creatinine          299 non-null    float64\n",
      " 8   serum_sodium              299 non-null    int32  \n",
      " 9   sex                       299 non-null    bool   \n",
      " 10  smoking                   299 non-null    bool   \n",
      " 11  time                      299 non-null    int32  \n",
      " 12  DEATH_EVENT               299 non-null    bool   \n",
      "dtypes: bool(6), float64(3), int32(4)---------\n"
     ]
    }
   ],
   "source": [
    "spkpd_df.info()\n",
    "print(\"---------\")"
   ]
  },
  {
   "cell_type": "code",
   "execution_count": 5,
   "id": "54c79a48",
   "metadata": {},
   "outputs": [
    {
     "name": "stdout",
     "output_type": "stream",
     "text": [
      "--------- Age_Level was added -----------------------------------\n"
     ]
    },
    {
     "name": "stderr",
     "output_type": "stream",
     "text": [
      "23/10/10 06:25:08 WARN WindowExec: No Partition Defined for Window operation! Moving all data to a single partition, this can cause serious performance degradation.\n",
      "23/10/10 06:25:08 WARN WindowExec: No Partition Defined for Window operation! Moving all data to a single partition, this can cause serious performance degradation.\n"
     ]
    },
    {
     "name": "stdout",
     "output_type": "stream",
     "text": [
      "<class 'pyspark.pandas.frame.DataFrame'>\n",
      "Int64Index: 299 entries, 0 to 298\n",
      "Data columns (total 14 columns):\n",
      " #   Column                    Non-Null Count  Dtype  \n",
      "---  ------                    --------------  -----  \n",
      " 0   age                       299 non-null    float64\n",
      " 1   anaemia                   299 non-null    bool   \n",
      " 2   creatinine_phosphokinase  299 non-null    int32  \n",
      " 3   diabetes                  299 non-null    bool   \n",
      " 4   ejection_fraction         299 non-null    int32  \n",
      " 5   high_blood_pressure       299 non-null    bool   \n",
      " 6   platelets                 299 non-null    float64\n",
      " 7   serum_creatinine          299 non-null    float64\n",
      " 8   serum_sodium              299 non-null    int32  \n",
      " 9   sex                       299 non-null    bool   \n",
      " 10  smoking                   299 non-null    bool   \n",
      " 11  time                      299 non-null    int32  \n",
      " 12  DEATH_EVENT               299 non-null    bool   \n",
      " 13  Age_Level                 299 non-null    object \n",
      "dtypes: bool(6), float64(3), int32(4), object(1)"
     ]
    },
    {
     "name": "stderr",
     "output_type": "stream",
     "text": [
      "23/10/10 06:25:08 WARN WindowExec: No Partition Defined for Window operation! Moving all data to a single partition, this can cause serious performance degradation.\n",
      "23/10/10 06:25:08 WARN WindowExec: No Partition Defined for Window operation! Moving all data to a single partition, this can cause serious performance degradation.\n"
     ]
    },
    {
     "data": {
      "text/html": [
       "<div>\n",
       "<style scoped>\n",
       "    .dataframe tbody tr th:only-of-type {\n",
       "        vertical-align: middle;\n",
       "    }\n",
       "\n",
       "    .dataframe tbody tr th {\n",
       "        vertical-align: top;\n",
       "    }\n",
       "\n",
       "    .dataframe thead th {\n",
       "        text-align: right;\n",
       "    }\n",
       "</style>\n",
       "<table border=\"1\" class=\"dataframe\">\n",
       "  <thead>\n",
       "    <tr style=\"text-align: right;\">\n",
       "      <th></th>\n",
       "      <th>age</th>\n",
       "      <th>anaemia</th>\n",
       "      <th>creatinine_phosphokinase</th>\n",
       "      <th>diabetes</th>\n",
       "      <th>ejection_fraction</th>\n",
       "      <th>high_blood_pressure</th>\n",
       "      <th>platelets</th>\n",
       "      <th>serum_creatinine</th>\n",
       "      <th>serum_sodium</th>\n",
       "      <th>sex</th>\n",
       "      <th>smoking</th>\n",
       "      <th>time</th>\n",
       "      <th>DEATH_EVENT</th>\n",
       "      <th>Age_Level</th>\n",
       "    </tr>\n",
       "  </thead>\n",
       "  <tbody>\n",
       "    <tr>\n",
       "      <th>0</th>\n",
       "      <td>75.0</td>\n",
       "      <td>False</td>\n",
       "      <td>582</td>\n",
       "      <td>False</td>\n",
       "      <td>20</td>\n",
       "      <td>True</td>\n",
       "      <td>265000.00</td>\n",
       "      <td>1.9</td>\n",
       "      <td>130</td>\n",
       "      <td>True</td>\n",
       "      <td>False</td>\n",
       "      <td>4</td>\n",
       "      <td>True</td>\n",
       "      <td>age_70</td>\n",
       "    </tr>\n",
       "    <tr>\n",
       "      <th>1</th>\n",
       "      <td>55.0</td>\n",
       "      <td>False</td>\n",
       "      <td>7861</td>\n",
       "      <td>False</td>\n",
       "      <td>38</td>\n",
       "      <td>False</td>\n",
       "      <td>263358.03</td>\n",
       "      <td>1.1</td>\n",
       "      <td>136</td>\n",
       "      <td>True</td>\n",
       "      <td>False</td>\n",
       "      <td>6</td>\n",
       "      <td>True</td>\n",
       "      <td>age_50</td>\n",
       "    </tr>\n",
       "    <tr>\n",
       "      <th>2</th>\n",
       "      <td>65.0</td>\n",
       "      <td>False</td>\n",
       "      <td>146</td>\n",
       "      <td>False</td>\n",
       "      <td>20</td>\n",
       "      <td>False</td>\n",
       "      <td>162000.00</td>\n",
       "      <td>1.3</td>\n",
       "      <td>129</td>\n",
       "      <td>True</td>\n",
       "      <td>True</td>\n",
       "      <td>7</td>\n",
       "      <td>True</td>\n",
       "      <td>age_60</td>\n",
       "    </tr>\n",
       "    <tr>\n",
       "      <th>3</th>\n",
       "      <td>50.0</td>\n",
       "      <td>True</td>\n",
       "      <td>111</td>\n",
       "      <td>False</td>\n",
       "      <td>20</td>\n",
       "      <td>False</td>\n",
       "      <td>210000.00</td>\n",
       "      <td>1.9</td>\n",
       "      <td>137</td>\n",
       "      <td>True</td>\n",
       "      <td>False</td>\n",
       "      <td>7</td>\n",
       "      <td>True</td>\n",
       "      <td>age_50</td>\n",
       "    </tr>\n",
       "    <tr>\n",
       "      <th>4</th>\n",
       "      <td>65.0</td>\n",
       "      <td>True</td>\n",
       "      <td>160</td>\n",
       "      <td>True</td>\n",
       "      <td>20</td>\n",
       "      <td>False</td>\n",
       "      <td>327000.00</td>\n",
       "      <td>2.7</td>\n",
       "      <td>116</td>\n",
       "      <td>False</td>\n",
       "      <td>False</td>\n",
       "      <td>8</td>\n",
       "      <td>True</td>\n",
       "      <td>age_60</td>\n",
       "    </tr>\n",
       "  </tbody>\n",
       "</table>\n",
       "</div>"
      ],
      "text/plain": [
       "    age  anaemia  creatinine_phosphokinase  diabetes  ejection_fraction  high_blood_pressure  platelets  serum_creatinine  serum_sodium    sex  smoking  time  DEATH_EVENT Age_Level\n",
       "0  75.0    False                       582     False                 20                 True  265000.00               1.9           130   True    False     4         True    age_70\n",
       "1  55.0    False                      7861     False                 38                False  263358.03               1.1           136   True    False     6         True    age_50\n",
       "2  65.0    False                       146     False                 20                False  162000.00               1.3           129   True     True     7         True    age_60\n",
       "3  50.0     True                       111     False                 20                False  210000.00               1.9           137   True    False     7         True    age_50\n",
       "4  65.0     True                       160      True                 20                False  327000.00               2.7           116  False    False     8         True    age_60"
      ]
     },
     "execution_count": 5,
     "metadata": {},
     "output_type": "execute_result"
    }
   ],
   "source": [
    "## Change age from numeric to categorical 1\n",
    "from pyspark.sql.functions import when\n",
    "\n",
    "# Define the bins and labels\n",
    "bins = [40, 50, 60, 70, 80, 100]\n",
    "labels = ['age_40', 'age_50', 'age_60', 'age_70', 'age_80']\n",
    "\n",
    "# Initialize Age_Level column with null values\n",
    "spk_df = spkpd_df.to_spark()\n",
    "spk_df = spk_df.withColumn(\"Age_Level\", when(spk_df[\"age\"].isNull(), None).otherwise(None))\n",
    "\n",
    "# Create the Age_Level column using when conditions\n",
    "for i in range(len(bins) - 1):\n",
    "    spk_df = spk_df.withColumn(\n",
    "        \"Age_Level\",\n",
    "        when((spk_df[\"age\"] >= bins[i]) & (spk_df[\"age\"] < bins[i + 1]), labels[i]).otherwise(spk_df[\"Age_Level\"])\n",
    "    )\n",
    "\n",
    "\n",
    "# Convert Spark DataFrame to pandas-on-Spark DataFrame\n",
    "spkpd_df = spk_df.to_pandas_on_spark()\n",
    "print(\"--------- Age_Level was added -----------------------------------\")\n",
    "spkpd_df.info()\n",
    "spkpd_df.head()"
   ]
  },
  {
   "cell_type": "code",
   "execution_count": 6,
   "id": "82f11bac",
   "metadata": {},
   "outputs": [
    {
     "name": "stdout",
     "output_type": "stream",
     "text": [
      "+----+---------+\n",
      "| age|Age_Level|\n",
      "+----+---------+\n",
      "|75.0|   age_70|\n",
      "|55.0|   age_50|\n",
      "|65.0|   age_60|\n",
      "|50.0|   age_50|\n",
      "|65.0|   age_60|\n",
      "|90.0|   age_80|\n",
      "|75.0|   age_70|\n",
      "|60.0|   age_60|\n",
      "|65.0|   age_60|\n",
      "|80.0|   age_80|\n",
      "|75.0|   age_70|\n",
      "|62.0|   age_60|\n",
      "|45.0|   age_40|\n",
      "|50.0|   age_50|\n",
      "|49.0|   age_40|\n",
      "|82.0|   age_80|\n",
      "|87.0|   age_80|\n",
      "|45.0|   age_40|\n",
      "|70.0|   age_70|\n",
      "|48.0|   age_40|\n",
      "+----+---------+\n",
      "only showing top 20 rows\n",
      "\n"
     ]
    }
   ],
   "source": [
    "# First, we have to register the DataFrame as a SQL temporary view.\n",
    "spk_df.createOrReplaceTempView('patients')\n",
    "\n",
    "# Here's another example:\n",
    "results = spark.sql(\"SELECT age, Age_Level FROM patients\")\n",
    "results.show()"
   ]
  },
  {
   "cell_type": "code",
   "execution_count": 7,
   "id": "2a2bcbe0",
   "metadata": {},
   "outputs": [
    {
     "data": {
      "text/plain": [
       "Text(0.5, 1.0, 'Distribution of Age_Level')"
      ]
     },
     "execution_count": 7,
     "metadata": {},
     "output_type": "execute_result"
    },
    {
     "data": {
      "image/png": "[encoded data removed]",
      "text/plain": [
       "<Figure size 432x288 with 1 Axes>"
      ]
     },
     "metadata": {
      "needs_background": "light"
     },
     "output_type": "display_data"
    },
    {
     "data": {
      "image/png": "[encoded data removed]",
      "text/plain": [
       "<Figure size 432x288 with 1 Axes>"
      ]
     },
     "metadata": {
      "needs_background": "light"
     },
     "output_type": "display_data"
    }
   ],
   "source": [
    "## Change age from numeric to categorical 1\n",
    "# Add Visualisations\n",
    "import matplotlib.pyplot as plt\n",
    "from pyspark.pandas.config import set_option\n",
    "set_option(\"plotting.backend\", \"matplotlib\")\n",
    "\n",
    "# Order by counts\n",
    "fig, ax = plt.subplots()\n",
    "spkpd_df['Age_Level'].value_counts().plot.bar(ax=ax)\n",
    "ax.set_xlabel('Age_Level')\n",
    "ax.set_ylabel('Count')\n",
    "ax.set_title('Distribution of Age_Level')\n",
    "\n",
    "# Order by labels\n",
    "fig, ax = plt.subplots()\n",
    "spkpd_df['Age_Level'].value_counts().reindex(labels).plot.bar(ax=ax)\n",
    "ax.set_xlabel('Age_Level')\n",
    "ax.set_ylabel('Count')\n",
    "ax.set_title('Distribution of Age_Level')\n"
   ]
  },
  {
   "cell_type": "code",
   "execution_count": 8,
   "id": "53398999",
   "metadata": {},
   "outputs": [
    {
     "name": "stderr",
     "output_type": "stream",
     "text": [
      "23/10/10 06:25:11 WARN WindowExec: No Partition Defined for Window operation! Moving all data to a single partition, this can cause serious performance degradation.\n",
      "23/10/10 06:25:11 WARN WindowExec: No Partition Defined for Window operation! Moving all data to a single partition, this can cause serious performance degradation.\n",
      "23/10/10 06:25:11 WARN WindowExec: No Partition Defined for Window operation! Moving all data to a single partition, this can cause serious performance degradation.\n"
     ]
    },
    {
     "data": {
      "image/png": "[encoded data removed]",
      "text/plain": [
       "<Figure size 432x288 with 1 Axes>"
      ]
     },
     "metadata": {
      "needs_background": "light"
     },
     "output_type": "display_data"
    },
    {
     "data": {
      "image/png": "[encoded data removed]",
      "text/plain": [
       "<Figure size 432x288 with 1 Axes>"
      ]
     },
     "metadata": {
      "needs_background": "light"
     },
     "output_type": "display_data"
    },
    {
     "data": {
      "image/png": "[encoded data removed]",
      "text/plain": [
       "<Figure size 432x288 with 1 Axes>"
      ]
     },
     "metadata": {
      "needs_background": "light"
     },
     "output_type": "display_data"
    },
    {
     "data": {
      "image/png": "[encoded data removed]",
      "text/plain": [
       "<Figure size 432x288 with 1 Axes>"
      ]
     },
     "metadata": {
      "needs_background": "light"
     },
     "output_type": "display_data"
    }
   ],
   "source": [
    "import seaborn as sns\n",
    "\n",
    "columns_to_cap = ['serum_sodium', 'serum_creatinine', 'creatinine_phosphokinase', 'platelets']\n",
    "\n",
    "for col in columns_to_cap:\n",
    "    \n",
    "    # Boxplot before capping\n",
    "    sns.boxplot(x=spkpd_df[col].to_numpy())\n",
    "    #plt.title(\"Boxplot before capping\")\n",
    "    plt.title(f\"Boxplot of {col} before capping\")\n",
    "    plt.show()\n"
   ]
  },
  {
   "cell_type": "code",
   "execution_count": 9,
   "id": "ccd85dab",
   "metadata": {},
   "outputs": [
    {
     "name": "stderr",
     "output_type": "stream",
     "text": [
      "23/10/10 06:25:13 WARN WindowExec: No Partition Defined for Window operation! Moving all data to a single partition, this can cause serious performance degradation.\n",
      "23/10/10 06:25:13 WARN WindowExec: No Partition Defined for Window operation! Moving all data to a single partition, this can cause serious performance degradation.\n",
      "23/10/10 06:25:14 WARN WindowExec: No Partition Defined for Window operation! Moving all data to a single partition, this can cause serious performance degradation.\n",
      "23/10/10 06:25:14 WARN WindowExec: No Partition Defined for Window operation! Moving all data to a single partition, this can cause serious performance degradation.\n",
      "23/10/10 06:25:15 WARN WindowExec: No Partition Defined for Window operation! Moving all data to a single partition, this can cause serious performance degradation.\n",
      "23/10/10 06:25:15 WARN WindowExec: No Partition Defined for Window operation! Moving all data to a single partition, this can cause serious performance degradation.\n",
      "23/10/10 06:25:15 WARN WindowExec: No Partition Defined for Window operation! Moving all data to a single partition, this can cause serious performance degradation.\n",
      "23/10/10 06:25:15 WARN WindowExec: No Partition Defined for Window operation! Moving all data to a single partition, this can cause serious performance degradation.\n"
     ]
    }
   ],
   "source": [
    "\n",
    "#### Handle extremes\n",
    "\n",
    "columns_to_cap = ['serum_sodium', 'serum_creatinine', 'creatinine_phosphokinase', 'platelets']\n",
    "\n",
    "for col in columns_to_cap:\n",
    "\n",
    "    Q1 = spkpd_df[col].quantile(0.25)\n",
    "    Q3 = spkpd_df[col].quantile(0.75)\n",
    "    IQR = Q3 - Q1\n",
    "\n",
    "    lower_limit = Q1 - 3 * IQR\n",
    "    upper_limit = Q3 + 3 * IQR\n",
    "    \n",
    "    \n",
    "    # Handle extremes\n",
    "    spkpd_df[col] = spkpd_df[col].apply(lambda x: upper_limit \n",
    "                                        if x > upper_limit \n",
    "                                        else (lower_limit if x < lower_limit \n",
    "                                              else x))                                \n",
    "    "
   ]
  },
  {
   "cell_type": "code",
   "execution_count": 10,
   "id": "196f3ee3",
   "metadata": {},
   "outputs": [
    {
     "name": "stderr",
     "output_type": "stream",
     "text": [
      "23/10/10 06:25:15 WARN WindowExec: No Partition Defined for Window operation! Moving all data to a single partition, this can cause serious performance degradation.\n",
      "23/10/10 06:25:15 WARN WindowExec: No Partition Defined for Window operation! Moving all data to a single partition, this can cause serious performance degradation.\n",
      "23/10/10 06:25:16 WARN WindowExec: No Partition Defined for Window operation! Moving all data to a single partition, this can cause serious performance degradation.\n",
      "WARNING:root:'PYARROW_IGNORE_TIMEZONE' environment variable was not set. It is required to set this environment variable to '1' in both driver and executor sides if you use pyarrow>=2.0.0. pandas-on-Spark will set it for you but it does not work if there is a Spark context already launched.\n",
      "                                                                                \r"
     ]
    },
    {
     "data": {
      "image/png": "[encoded data removed]",
      "text/plain": [
       "<Figure size 432x288 with 1 Axes>"
      ]
     },
     "metadata": {
      "needs_background": "light"
     },
     "output_type": "display_data"
    },
    {
     "data": {
      "image/png": "[encoded data removed]",
      "text/plain": [
       "<Figure size 432x288 with 1 Axes>"
      ]
     },
     "metadata": {
      "needs_background": "light"
     },
     "output_type": "display_data"
    },
    {
     "data": {
      "image/png": "[encoded data removed]",
      "text/plain": [
       "<Figure size 432x288 with 1 Axes>"
      ]
     },
     "metadata": {
      "needs_background": "light"
     },
     "output_type": "display_data"
    },
    {
     "data": {
      "image/png": "[encoded data removed]",
      "text/plain": [
       "<Figure size 432x288 with 1 Axes>"
      ]
     },
     "metadata": {
      "needs_background": "light"
     },
     "output_type": "display_data"
    }
   ],
   "source": [
    "columns_to_cap = ['serum_sodium', 'serum_creatinine', 'creatinine_phosphokinase', 'platelets']\n",
    "\n",
    "for col in columns_to_cap:\n",
    "    # Boxplot after capping\n",
    "    sns.boxplot(x=spkpd_df[col].to_numpy(), color='skyblue')\n",
    "    #plt.title(\"Boxplot after capping\")\n",
    "    plt.title(f\"Boxplot of {col} after capping\")\n",
    "    plt.show()"
   ]
  },
  {
   "cell_type": "code",
   "execution_count": 11,
   "id": "67a2260f",
   "metadata": {},
   "outputs": [
    {
     "name": "stderr",
     "output_type": "stream",
     "text": [
      "23/10/10 06:25:19 WARN WindowExec: No Partition Defined for Window operation! Moving all data to a single partition, this can cause serious performance degradation.\n",
      "23/10/10 06:25:19 WARN WindowExec: No Partition Defined for Window operation! Moving all data to a single partition, this can cause serious performance degradation.\n",
      "23/10/10 06:25:19 WARN WindowExec: No Partition Defined for Window operation! Moving all data to a single partition, this can cause serious performance degradation.\n",
      "23/10/10 06:25:19 WARN WindowExec: No Partition Defined for Window operation! Moving all data to a single partition, this can cause serious performance degradation.\n"
     ]
    },
    {
     "name": "stdout",
     "output_type": "stream",
     "text": [
      "<class 'pyspark.pandas.frame.DataFrame'>\n",
      "Int64Index: 299 entries, 0 to 298\n",
      "Data columns (total 14 columns):\n",
      " #   Column                    Non-Null Count  Dtype  \n",
      "---  ------                    --------------  -----  \n",
      " 0   age                       299 non-null    float64\n",
      " 1   anaemia                   299 non-null    bool   \n",
      " 2   creatinine_phosphokinase  299 non-null    float64\n",
      " 3   diabetes                  299 non-null    bool   \n",
      " 4   ejection_fraction         299 non-null    int32  \n",
      " 5   high_blood_pressure       299 non-null    bool   \n",
      " 6   platelets                 299 non-null    float64\n",
      " 7   serum_creatinine          299 non-null    float64\n",
      " 8   serum_sodium              299 non-null    float64\n",
      " 9   sex                       299 non-null    bool   \n",
      " 10  smoking                   299 non-null    bool   \n",
      " 11  time                      299 non-null    int32  \n",
      " 12  DEATH_EVENT               299 non-null    bool   \n",
      " 13  Age_Level                 299 non-null    object \n",
      "dtypes: bool(6), float64(5), int32(2), object(1)root\n",
      " |-- age: double (nullable = true)\n",
      " |-- anaemia: boolean (nullable = true)\n",
      " |-- creatinine_phosphokinase: integer (nullable = true)\n",
      " |-- diabetes: boolean (nullable = true)\n",
      " |-- ejection_fraction: integer (nullable = true)\n",
      " |-- high_blood_pressure: boolean (nullable = true)\n",
      " |-- platelets: double (nullable = true)\n",
      " |-- serum_creatinine: double (nullable = true)\n",
      " |-- serum_sodium: integer (nullable = true)\n",
      " |-- sex: boolean (nullable = true)\n",
      " |-- smoking: boolean (nullable = true)\n",
      " |-- time: integer (nullable = true)\n",
      " |-- DEATH_EVENT: boolean (nullable = true)\n",
      " |-- Age_Level: string (nullable = true)\n",
      "\n"
     ]
    }
   ],
   "source": [
    "spkpd_df.info()\n",
    "spk_df.printSchema()"
   ]
  },
  {
   "cell_type": "code",
   "execution_count": 12,
   "id": "0038201e",
   "metadata": {},
   "outputs": [
    {
     "name": "stdout",
     "output_type": "stream",
     "text": [
      "root\n",
      " |-- age: double (nullable = true)\n",
      " |-- anaemia: boolean (nullable = true)\n",
      " |-- creatinine_phosphokinase: integer (nullable = true)\n",
      " |-- diabetes: boolean (nullable = true)\n",
      " |-- ejection_fraction: integer (nullable = true)\n",
      " |-- high_blood_pressure: boolean (nullable = true)\n",
      " |-- platelets: double (nullable = true)\n",
      " |-- serum_creatinine: double (nullable = true)\n",
      " |-- serum_sodium: integer (nullable = true)\n",
      " |-- sex: boolean (nullable = true)\n",
      " |-- smoking: boolean (nullable = true)\n",
      " |-- time: integer (nullable = true)\n",
      " |-- DEATH_EVENT: boolean (nullable = true)\n",
      " |-- Age_Level: string (nullable = true)\n",
      " |-- follow_up_month: double (nullable = true)\n",
      "\n"
     ]
    },
    {
     "name": "stderr",
     "output_type": "stream",
     "text": [
      "23/10/10 06:25:20 WARN WindowExec: No Partition Defined for Window operation! Moving all data to a single partition, this can cause serious performance degradation.\n",
      "23/10/10 06:25:20 WARN WindowExec: No Partition Defined for Window operation! Moving all data to a single partition, this can cause serious performance degradation.\n",
      "23/10/10 06:25:21 WARN WindowExec: No Partition Defined for Window operation! Moving all data to a single partition, this can cause serious performance degradation.\n",
      "23/10/10 06:25:21 WARN WindowExec: No Partition Defined for Window operation! Moving all data to a single partition, this can cause serious performance degradation.\n"
     ]
    },
    {
     "name": "stdout",
     "output_type": "stream",
     "text": [
      "<class 'pyspark.pandas.frame.DataFrame'>\n",
      "Int64Index: 299 entries, 0 to 298\n",
      "Data columns (total 14 columns):\n",
      " #   Column                    Non-Null Count  Dtype  \n",
      "---  ------                    --------------  -----  \n",
      " 0   age                       299 non-null    float64\n",
      " 1   anaemia                   299 non-null    bool   \n",
      " 2   creatinine_phosphokinase  299 non-null    float64\n",
      " 3   diabetes                  299 non-null    bool   \n",
      " 4   ejection_fraction         299 non-null    int32  \n",
      " 5   high_blood_pressure       299 non-null    bool   \n",
      " 6   platelets                 299 non-null    float64\n",
      " 7   serum_creatinine          299 non-null    float64\n",
      " 8   serum_sodium              299 non-null    float64\n",
      " 9   sex                       299 non-null    bool   \n",
      " 10  smoking                   299 non-null    bool   \n",
      " 11  time                      299 non-null    int32  \n",
      " 12  DEATH_EVENT               299 non-null    bool   \n",
      " 13  Age_Level                 299 non-null    object \n",
      "dtypes: bool(6), float64(5), int32(2), object(1)-----------------------\n",
      "+----+-------------------+\n",
      "|time|    follow_up_month|\n",
      "+----+-------------------+\n",
      "|   4|0.13333333333333333|\n",
      "|   6|                0.2|\n",
      "|   7|0.23333333333333334|\n",
      "|   7|0.23333333333333334|\n",
      "|   8|0.26666666666666666|\n",
      "|   8|0.26666666666666666|\n",
      "|  10| 0.3333333333333333|\n",
      "|  10| 0.3333333333333333|\n",
      "|  10| 0.3333333333333333|\n",
      "|  10| 0.3333333333333333|\n",
      "|  10| 0.3333333333333333|\n",
      "|  10| 0.3333333333333333|\n",
      "|  11|0.36666666666666664|\n",
      "|  11|0.36666666666666664|\n",
      "|  12|                0.4|\n",
      "|  13|0.43333333333333335|\n",
      "|  14| 0.4666666666666667|\n",
      "|  14| 0.4666666666666667|\n",
      "|  15|                0.5|\n",
      "|  15|                0.5|\n",
      "+----+-------------------+\n",
      "only showing top 20 rows\n",
      "\n"
     ]
    }
   ],
   "source": [
    "## Change days to months\n",
    "from pyspark.sql import functions as F\n",
    "\n",
    "# Change days to months\n",
    "spk_df = spk_df.withColumn('follow_up_month', spk_df['time'] / 30)\n",
    "\n",
    "\n",
    "spk_df.printSchema()\n",
    "spkpd_df.info()\n",
    "print(\"-----------------------\")\n",
    "\n",
    "# Register the DataFrame as a SQL temporary view\n",
    "spk_df.createOrReplaceTempView('patients')\n",
    "\n",
    "# Execute SQL query\n",
    "results = spark.sql(\"SELECT time, follow_up_month FROM patients\")\n",
    "results.show()\n"
   ]
  },
  {
   "cell_type": "code",
   "execution_count": 13,
   "id": "10ebde06",
   "metadata": {},
   "outputs": [
    {
     "name": "stdout",
     "output_type": "stream",
     "text": [
      "+----+---------------+\n",
      "|time|follow_up_month|\n",
      "+----+---------------+\n",
      "|   4|           0.13|\n",
      "|   6|            0.2|\n",
      "|   7|           0.23|\n",
      "|   7|           0.23|\n",
      "|   8|           0.27|\n",
      "|   8|           0.27|\n",
      "|  10|           0.33|\n",
      "|  10|           0.33|\n",
      "|  10|           0.33|\n",
      "|  10|           0.33|\n",
      "|  10|           0.33|\n",
      "|  10|           0.33|\n",
      "|  11|           0.37|\n",
      "|  11|           0.37|\n",
      "|  12|            0.4|\n",
      "|  13|           0.43|\n",
      "|  14|           0.47|\n",
      "|  14|           0.47|\n",
      "|  15|            0.5|\n",
      "|  15|            0.5|\n",
      "+----+---------------+\n",
      "only showing top 20 rows\n",
      "\n"
     ]
    }
   ],
   "source": [
    "# Format the follow_up_month\n",
    "spk_df = spk_df.withColumn('follow_up_month', F.round(spk_df['follow_up_month'], 2))\n",
    "\n",
    "# Register the DataFrame as a SQL temporary view\n",
    "spk_df.createOrReplaceTempView('patients')\n",
    "\n",
    "# Execute SQL query\n",
    "results = spark.sql(\"SELECT time, follow_up_month FROM patients\")\n",
    "results.show()\n"
   ]
  },
  {
   "cell_type": "code",
   "execution_count": 14,
   "id": "b934c3ae",
   "metadata": {
    "scrolled": true
   },
   "outputs": [
    {
     "name": "stderr",
     "output_type": "stream",
     "text": [
      "23/10/10 06:25:22 WARN WindowExec: No Partition Defined for Window operation! Moving all data to a single partition, this can cause serious performance degradation.\n",
      "23/10/10 06:25:22 WARN WindowExec: No Partition Defined for Window operation! Moving all data to a single partition, this can cause serious performance degradation.\n"
     ]
    },
    {
     "name": "stdout",
     "output_type": "stream",
     "text": [
      "<class 'pyspark.pandas.frame.DataFrame'>\n",
      "Int64Index: 299 entries, 0 to 298\n",
      "Data columns (total 15 columns):\n",
      " #   Column                    Non-Null Count  Dtype  \n",
      "---  ------                    --------------  -----  \n",
      " 0   age                       299 non-null    float64\n",
      " 1   anaemia                   299 non-null    bool   \n",
      " 2   creatinine_phosphokinase  299 non-null    int32  \n",
      " 3   diabetes                  299 non-null    bool   \n",
      " 4   ejection_fraction         299 non-null    int32  \n",
      " 5   high_blood_pressure       299 non-null    bool   \n",
      " 6   platelets                 299 non-null    float64\n",
      " 7   serum_creatinine          299 non-null    float64\n",
      " 8   serum_sodium              299 non-null    int32  \n",
      " 9   sex                       299 non-null    bool   \n",
      " 10  smoking                   299 non-null    bool   \n",
      " 11  time                      299 non-null    int32  \n",
      " 12  DEATH_EVENT               299 non-null    bool   \n",
      " 13  Age_Level                 299 non-null    object \n",
      " 14  follow_up_month           299 non-null    float64\n",
      "dtypes: bool(6), float64(4), int32(4), object(1)"
     ]
    },
    {
     "name": "stderr",
     "output_type": "stream",
     "text": [
      "23/10/10 06:25:23 WARN WindowExec: No Partition Defined for Window operation! Moving all data to a single partition, this can cause serious performance degradation.\n",
      "23/10/10 06:25:23 WARN WindowExec: No Partition Defined for Window operation! Moving all data to a single partition, this can cause serious performance degradation.\n"
     ]
    },
    {
     "data": {
      "text/html": [
       "<div>\n",
       "<style scoped>\n",
       "    .dataframe tbody tr th:only-of-type {\n",
       "        vertical-align: middle;\n",
       "    }\n",
       "\n",
       "    .dataframe tbody tr th {\n",
       "        vertical-align: top;\n",
       "    }\n",
       "\n",
       "    .dataframe thead th {\n",
       "        text-align: right;\n",
       "    }\n",
       "</style>\n",
       "<table border=\"1\" class=\"dataframe\">\n",
       "  <thead>\n",
       "    <tr style=\"text-align: right;\">\n",
       "      <th></th>\n",
       "      <th>age</th>\n",
       "      <th>anaemia</th>\n",
       "      <th>creatinine_phosphokinase</th>\n",
       "      <th>diabetes</th>\n",
       "      <th>ejection_fraction</th>\n",
       "      <th>high_blood_pressure</th>\n",
       "      <th>platelets</th>\n",
       "      <th>serum_creatinine</th>\n",
       "      <th>serum_sodium</th>\n",
       "      <th>sex</th>\n",
       "      <th>smoking</th>\n",
       "      <th>time</th>\n",
       "      <th>DEATH_EVENT</th>\n",
       "      <th>Age_Level</th>\n",
       "      <th>follow_up_month</th>\n",
       "    </tr>\n",
       "  </thead>\n",
       "  <tbody>\n",
       "    <tr>\n",
       "      <th>0</th>\n",
       "      <td>75.0</td>\n",
       "      <td>False</td>\n",
       "      <td>582</td>\n",
       "      <td>False</td>\n",
       "      <td>20</td>\n",
       "      <td>True</td>\n",
       "      <td>265000.00</td>\n",
       "      <td>1.9</td>\n",
       "      <td>130</td>\n",
       "      <td>True</td>\n",
       "      <td>False</td>\n",
       "      <td>4</td>\n",
       "      <td>True</td>\n",
       "      <td>age_70</td>\n",
       "      <td>0.13</td>\n",
       "    </tr>\n",
       "    <tr>\n",
       "      <th>1</th>\n",
       "      <td>55.0</td>\n",
       "      <td>False</td>\n",
       "      <td>7861</td>\n",
       "      <td>False</td>\n",
       "      <td>38</td>\n",
       "      <td>False</td>\n",
       "      <td>263358.03</td>\n",
       "      <td>1.1</td>\n",
       "      <td>136</td>\n",
       "      <td>True</td>\n",
       "      <td>False</td>\n",
       "      <td>6</td>\n",
       "      <td>True</td>\n",
       "      <td>age_50</td>\n",
       "      <td>0.20</td>\n",
       "    </tr>\n",
       "    <tr>\n",
       "      <th>2</th>\n",
       "      <td>65.0</td>\n",
       "      <td>False</td>\n",
       "      <td>146</td>\n",
       "      <td>False</td>\n",
       "      <td>20</td>\n",
       "      <td>False</td>\n",
       "      <td>162000.00</td>\n",
       "      <td>1.3</td>\n",
       "      <td>129</td>\n",
       "      <td>True</td>\n",
       "      <td>True</td>\n",
       "      <td>7</td>\n",
       "      <td>True</td>\n",
       "      <td>age_60</td>\n",
       "      <td>0.23</td>\n",
       "    </tr>\n",
       "    <tr>\n",
       "      <th>3</th>\n",
       "      <td>50.0</td>\n",
       "      <td>True</td>\n",
       "      <td>111</td>\n",
       "      <td>False</td>\n",
       "      <td>20</td>\n",
       "      <td>False</td>\n",
       "      <td>210000.00</td>\n",
       "      <td>1.9</td>\n",
       "      <td>137</td>\n",
       "      <td>True</td>\n",
       "      <td>False</td>\n",
       "      <td>7</td>\n",
       "      <td>True</td>\n",
       "      <td>age_50</td>\n",
       "      <td>0.23</td>\n",
       "    </tr>\n",
       "    <tr>\n",
       "      <th>4</th>\n",
       "      <td>65.0</td>\n",
       "      <td>True</td>\n",
       "      <td>160</td>\n",
       "      <td>True</td>\n",
       "      <td>20</td>\n",
       "      <td>False</td>\n",
       "      <td>327000.00</td>\n",
       "      <td>2.7</td>\n",
       "      <td>116</td>\n",
       "      <td>False</td>\n",
       "      <td>False</td>\n",
       "      <td>8</td>\n",
       "      <td>True</td>\n",
       "      <td>age_60</td>\n",
       "      <td>0.27</td>\n",
       "    </tr>\n",
       "  </tbody>\n",
       "</table>\n",
       "</div>"
      ],
      "text/plain": [
       "    age  anaemia  creatinine_phosphokinase  diabetes  ejection_fraction  high_blood_pressure  platelets  serum_creatinine  serum_sodium    sex  smoking  time  DEATH_EVENT Age_Level  follow_up_month\n",
       "0  75.0    False                       582     False                 20                 True  265000.00               1.9           130   True    False     4         True    age_70             0.13\n",
       "1  55.0    False                      7861     False                 38                False  263358.03               1.1           136   True    False     6         True    age_50             0.20\n",
       "2  65.0    False                       146     False                 20                False  162000.00               1.3           129   True     True     7         True    age_60             0.23\n",
       "3  50.0     True                       111     False                 20                False  210000.00               1.9           137   True    False     7         True    age_50             0.23\n",
       "4  65.0     True                       160      True                 20                False  327000.00               2.7           116  False    False     8         True    age_60             0.27"
      ]
     },
     "execution_count": 14,
     "metadata": {},
     "output_type": "execute_result"
    }
   ],
   "source": [
    "\n",
    "# Convert Spark DataFrame to pandas-on-Spark DataFrame\n",
    "spkpd_df = spk_df.to_pandas_on_spark()\n",
    "spkpd_df.info()\n",
    "spkpd_df.head()"
   ]
  },
  {
   "cell_type": "code",
   "execution_count": 15,
   "id": "553d051e",
   "metadata": {},
   "outputs": [],
   "source": [
    "# 保存为 CSV 文件\n",
    "spk_df.write.csv(\"Data/3DP\", header=True)"
   ]
  },
  {
   "cell_type": "code",
   "execution_count": null,
   "id": "c3af7284",
   "metadata": {},
   "outputs": [],
   "source": [
    "# Stop Spark session\n",
    "spark.stop()"
   ]
  }
 ],
 "metadata": {
  "kernelspec": {
   "display_name": "Python 3 (ipykernel)",
   "language": "python",
   "name": "python3"
  },
  "language_info": {
   "codemirror_mode": {
    "name": "ipython",
    "version": 3
   },
   "file_extension": ".py",
   "mimetype": "text/x-python",
   "name": "python",
   "nbconvert_exporter": "python",
   "pygments_lexer": "ipython3",
   "version": "3.10.12"
  }
 },
 "nbformat": 4,
 "nbformat_minor": 5
}
