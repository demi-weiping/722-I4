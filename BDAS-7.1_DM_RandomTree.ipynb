{
 "cells": [
  {
   "cell_type": "markdown",
   "id": "7a5a3005",
   "metadata": {},
   "source": [
    "# Step 7：Data Mining\n",
    "\n",
    "# Random Forest Model"
   ]
  },
  {
   "cell_type": "code",
   "execution_count": 1,
   "id": "6cd226d5",
   "metadata": {},
   "outputs": [
    {
     "name": "stderr",
     "output_type": "stream",
     "text": [
      "WARNING: An illegal reflective access operation has occurred\n",
      "WARNING: Illegal reflective access by org.apache.spark.unsafe.Platform (file:/home/ubuntu/spark-3.2.1-bin-hadoop2.7/jars/spark-unsafe_2.12-3.2.1.jar) to constructor java.nio.DirectByteBuffer(long,int)\n",
      "WARNING: Please consider reporting this to the maintainers of org.apache.spark.unsafe.Platform\n",
      "WARNING: Use --illegal-access=warn to enable warnings of further illegal reflective access operations\n",
      "WARNING: All illegal access operations will be denied in a future release\n",
      "Using Spark's default log4j profile: org/apache/spark/log4j-defaults.properties\n",
      "Setting default log level to \"WARN\".\n",
      "To adjust logging level use sc.setLogLevel(newLevel). For SparkR, use setLogLevel(newLevel).\n",
      "23/10/10 23:37:06 WARN NativeCodeLoader: Unable to load native-hadoop library for your platform... using builtin-java classes where applicable\n"
     ]
    }
   ],
   "source": [
    "# Must be included at the beginning of each new notebook. Remember to change the app name.\n",
    "import findspark\n",
    "findspark.init('/home/ubuntu/spark-3.2.1-bin-hadoop2.7')\n",
    "import pyspark\n",
    "from pyspark.sql import SparkSession\n",
    "spark = SparkSession.builder.appName('DBAS-Step7-DM-RandomForest').getOrCreate()\n",
    "\n",
    "# Enable pandas-on-Spark\n",
    "spark.conf.set(\"spark.sql.execution.arrow.pyspark.enabled\", \"true\")"
   ]
  },
  {
   "cell_type": "code",
   "execution_count": 2,
   "id": "9f447eca",
   "metadata": {},
   "outputs": [
    {
     "name": "stderr",
     "output_type": "stream",
     "text": [
      "WARNING:root:'PYARROW_IGNORE_TIMEZONE' environment variable was not set. It is required to set this environment variable to '1' in both driver and executor sides if you use pyarrow>=2.0.0. pandas-on-Spark will set it for you but it does not work if there is a Spark context already launched.\n",
      "/home/ubuntu/.local/lib/python3.10/site-packages/scipy/__init__.py:146: UserWarning: A NumPy version >=1.17.3 and <1.25.0 is required for this version of SciPy (detected version 1.26.0\n",
      "  warnings.warn(f\"A NumPy version >={np_minversion} and <{np_maxversion}\"\n",
      "23/10/10 23:37:17 WARN WindowExec: No Partition Defined for Window operation! Moving all data to a single partition, this can cause serious performance degradation.\n",
      "23/10/10 23:37:17 WARN WindowExec: No Partition Defined for Window operation! Moving all data to a single partition, this can cause serious performance degradation.\n"
     ]
    },
    {
     "name": "stdout",
     "output_type": "stream",
     "text": [
      "<class 'pyspark.pandas.frame.DataFrame'>\n",
      "Int64Index: 383 entries, 0 to 382\n",
      "Data columns (total 6 columns):\n",
      " #   Column                    Non-Null Count  Dtype  \n",
      "---  ------                    --------------  -----  \n",
      " 0   creatinine_phosphokinase  383 non-null    int32  \n",
      " 1   ejection_fraction         383 non-null    int32  \n",
      " 2   platelets                 383 non-null    float64\n",
      " 3   serum_creatinine          383 non-null    float64\n",
      " 4   serum_sodium              383 non-null    int32  \n",
      " 5   DEATH_EVENT               383 non-null    int32  \n",
      "dtypes: float64(2), int32(4)"
     ]
    }
   ],
   "source": [
    "## Load data from csv file\n",
    "spk_df = spark.read.csv(\"Data/4DT/heart_failure_dataset_4DT.csv\", header=True, inferSchema=True)\n",
    "\n",
    "# Convert Spark DataFrame to pandas-on-Spark DataFrame using to_pandas_on_spark()\n",
    "spkpd_df = spk_df.to_pandas_on_spark()\n",
    "spkpd_df.info()\n"
   ]
  },
  {
   "cell_type": "code",
   "execution_count": 3,
   "id": "46a10281",
   "metadata": {},
   "outputs": [],
   "source": [
    "### --------  06-DMA\n",
    "\n",
    "# Load relevant algorithms for Random Forest model\n",
    "\n",
    "from pyspark.sql import SparkSession\n",
    "from pyspark.ml.feature import VectorAssembler\n",
    "from pyspark.ml.classification import RandomForestClassifier\n",
    "from pyspark.ml.evaluation import MulticlassClassificationEvaluator\n",
    "import matplotlib.pyplot as plt"
   ]
  },
  {
   "cell_type": "code",
   "execution_count": 4,
   "id": "3b009c84",
   "metadata": {},
   "outputs": [],
   "source": [
    "# Prepare data for MLlib\n",
    "feature_cols = [col for col in spk_df.columns if col != 'DEATH_EVENT']\n",
    "assembler = VectorAssembler(inputCols=feature_cols, outputCol=\"features\")\n",
    "df_assembled = assembler.transform(spk_df)\n",
    "\n",
    "# Split the data into training and test sets\n",
    "(train_data, test_data) = df_assembled.randomSplit([0.7, 0.3], seed=42)\n",
    "\n",
    "# Train using Random Forest\n",
    "clf = RandomForestClassifier(numTrees=100, labelCol=\"DEATH_EVENT\", featuresCol=\"features\", seed=42)\n",
    "model = clf.fit(train_data)\n"
   ]
  },
  {
   "cell_type": "code",
   "execution_count": 5,
   "id": "72cbb895",
   "metadata": {},
   "outputs": [
    {
     "name": "stdout",
     "output_type": "stream",
     "text": [
      "Test Accuracy of Random Forest: 78.95%\n"
     ]
    }
   ],
   "source": [
    "# Predict and evaluate accuracy\n",
    "predictions = model.transform(test_data)\n",
    "evaluator = MulticlassClassificationEvaluator(labelCol=\"DEATH_EVENT\", \n",
    "                                              predictionCol=\"prediction\", \n",
    "                                              metricName=\"accuracy\")\n",
    "\n",
    "accuracy = evaluator.evaluate(predictions)\n",
    "print(f\"Test Accuracy of Random Forest: {accuracy*100:.2f}%\")"
   ]
  },
  {
   "cell_type": "code",
   "execution_count": 6,
   "id": "53279978",
   "metadata": {},
   "outputs": [
    {
     "name": "stdout",
     "output_type": "stream",
     "text": [
      "Feature importance using Random Tree:\n",
      "serum_creatinine: 0.3345\n",
      "ejection_fraction: 0.2854\n",
      "serum_sodium: 0.1513\n",
      "creatinine_phosphokinase: 0.1284\n",
      "platelets: 0.1003\n"
     ]
    },
    {
     "data": {
      "image/png": "[encoded data removed]",
      "text/plain": [
       "<Figure size 720x432 with 1 Axes>"
      ]
     },
     "metadata": {
      "needs_background": "light"
     },
     "output_type": "display_data"
    }
   ],
   "source": [
    "# Get feature importances\n",
    "feature_importances = model.featureImportances.toArray()\n",
    "\n",
    "# Sort features based on importance and print them\n",
    "important_features = sorted(zip(feature_cols, feature_importances), key=lambda x: x[1], reverse=True)\n",
    "print(\"Feature importance using Random Tree:\")\n",
    "for feature, importance in important_features:\n",
    "    print(f\"{feature}: {importance:.4f}\")\n",
    "    \n",
    "# Plotting feature importance\n",
    "features, importances = zip(*important_features)\n",
    "plt.figure(figsize=(10, 6)) \n",
    "plt.barh(features, importances, align='center', color='skyblue')\n",
    "plt.xlabel('Importance')\n",
    "plt.ylabel('Features')\n",
    "plt.title('Feature Importance using Random Tree')\n",
    "plt.gca().invert_yaxis()  # Display the most important feature at the top\n",
    "plt.show()\n"
   ]
  },
  {
   "cell_type": "code",
   "execution_count": 7,
   "id": "fed86860",
   "metadata": {},
   "outputs": [],
   "source": [
    "# Stop Spark session\n",
    "spark.stop()"
   ]
  }
 ],
 "metadata": {
  "kernelspec": {
   "display_name": "Python 3 (ipykernel)",
   "language": "python",
   "name": "python3"
  },
  "language_info": {
   "codemirror_mode": {
    "name": "ipython",
    "version": 3
   },
   "file_extension": ".py",
   "mimetype": "text/x-python",
   "name": "python",
   "nbconvert_exporter": "python",
   "pygments_lexer": "ipython3",
   "version": "3.10.12"
  }
 },
 "nbformat": 4,
 "nbformat_minor": 5
}
