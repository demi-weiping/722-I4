{
 "cells": [
  {
   "cell_type": "markdown",
   "id": "7a5a3005",
   "metadata": {},
   "source": [
    "# Step 7：Data Mining\n",
    "\n",
    "# Random Forest Model"
   ]
  },
  {
   "cell_type": "code",
   "execution_count": null,
   "id": "6cd226d5",
   "metadata": {},
   "outputs": [],
   "source": [
    "# Must be included at the beginning of each new notebook. Remember to change the app name.\n",
    "import findspark\n",
    "findspark.init('/home/ubuntu/spark-3.2.1-bin-hadoop2.7')\n",
    "import pyspark\n",
    "from pyspark.sql import SparkSession\n",
    "spark = SparkSession.builder.appName('DBAS-Step7-DM-RandomForest').getOrCreate()\n",
    "\n",
    "# Enable pandas-on-Spark\n",
    "spark.conf.set(\"spark.sql.execution.arrow.pyspark.enabled\", \"true\")"
   ]
  },
  {
   "cell_type": "code",
   "execution_count": null,
   "id": "9f447eca",
   "metadata": {},
   "outputs": [],
   "source": [
    "## Load data from csv file\n",
    "spk_df = spark.read.csv(\"Data/4DT/heart_failure_dataset_4DT.csv\", header=True, inferSchema=True)\n",
    "\n",
    "# Convert Spark DataFrame to pandas-on-Spark DataFrame using to_pandas_on_spark()\n",
    "spkpd_df = spk_df.to_pandas_on_spark()\n",
    "spkpd_df.info()\n"
   ]
  },
  {
   "cell_type": "code",
   "execution_count": null,
   "id": "46a10281",
   "metadata": {},
   "outputs": [],
   "source": [
    "### --------  06-DMA\n",
    "\n",
    "# Load relevant algorithms for Random Forest model\n",
    "\n",
    "from pyspark.sql import SparkSession\n",
    "from pyspark.ml.feature import VectorAssembler\n",
    "from pyspark.ml.classification import RandomForestClassifier\n",
    "from pyspark.ml.evaluation import MulticlassClassificationEvaluator\n",
    "import matplotlib.pyplot as plt"
   ]
  },
  {
   "cell_type": "code",
   "execution_count": null,
   "id": "3b009c84",
   "metadata": {},
   "outputs": [],
   "source": [
    "# Prepare data for MLlib\n",
    "feature_cols = [col for col in spk_df.columns if col != 'DEATH_EVENT']\n",
    "assembler = VectorAssembler(inputCols=feature_cols, outputCol=\"features\")\n",
    "df_assembled = assembler.transform(spk_df)\n",
    "\n",
    "# Split the data into training and test sets\n",
    "(train_data, test_data) = df_assembled.randomSplit([0.7, 0.3], seed=42)\n",
    "\n",
    "# Train using Random Forest\n",
    "clf = RandomForestClassifier(numTrees=100, labelCol=\"DEATH_EVENT\", featuresCol=\"features\", seed=42)\n",
    "model = clf.fit(train_data)\n"
   ]
  },
  {
   "cell_type": "code",
   "execution_count": null,
   "id": "72cbb895",
   "metadata": {},
   "outputs": [],
   "source": [
    "# Predict and evaluate accuracy\n",
    "predictions = model.transform(test_data)\n",
    "evaluator = MulticlassClassificationEvaluator(labelCol=\"DEATH_EVENT\", \n",
    "                                              predictionCol=\"prediction\", \n",
    "                                              metricName=\"accuracy\")\n",
    "\n",
    "accuracy = evaluator.evaluate(predictions)\n",
    "print(f\"Test Accuracy of Random Forest: {accuracy*100:.2f}%\")"
   ]
  },
  {
   "cell_type": "code",
   "execution_count": null,
   "id": "53279978",
   "metadata": {},
   "outputs": [],
   "source": [
    "# Get feature importances\n",
    "feature_importances = model.featureImportances.toArray()\n",
    "\n",
    "# Sort features based on importance and print them\n",
    "important_features = sorted(zip(feature_cols, feature_importances), key=lambda x: x[1], reverse=True)\n",
    "print(\"Feature importance using Random Tree:\")\n",
    "for feature, importance in important_features:\n",
    "    print(f\"{feature}: {importance:.4f}\")\n",
    "    \n",
    "# Plotting feature importance\n",
    "features, importances = zip(*important_features)\n",
    "plt.figure(figsize=(10, 6)) \n",
    "plt.barh(features, importances, align='center', color='skyblue')\n",
    "plt.xlabel('Importance')\n",
    "plt.ylabel('Features')\n",
    "plt.title('Feature Importance using Random Tree')\n",
    "plt.gca().invert_yaxis()  # Display the most important feature at the top\n",
    "plt.show()\n"
   ]
  },
  {
   "cell_type": "code",
   "execution_count": null,
   "id": "fed86860",
   "metadata": {},
   "outputs": [],
   "source": [
    "# Stop Spark session\n",
    "spark.stop()"
   ]
  }
 ],
 "metadata": {
  "kernelspec": {
   "display_name": "Python 3 (ipykernel)",
   "language": "python",
   "name": "python3"
  },
  "language_info": {
   "codemirror_mode": {
    "name": "ipython",
    "version": 3
   },
   "file_extension": ".py",
   "mimetype": "text/x-python",
   "name": "python",
   "nbconvert_exporter": "python",
   "pygments_lexer": "ipython3",
   "version": "3.10.12"
  }
 },
 "nbformat": 4,
 "nbformat_minor": 5
}
