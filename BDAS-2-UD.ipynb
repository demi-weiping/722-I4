{
 "cells": [
  {
   "cell_type": "code",
   "execution_count": null,
   "id": "ca0a9566",
   "metadata": {},
   "outputs": [],
   "source": [
    "# Must be included at the beginning of each new notebook. Remember to change the app name.\n",
    "import findspark\n",
    "findspark.init('/home/ubuntu/spark-3.2.1-bin-hadoop2.7')\n",
    "import pyspark\n",
    "from pyspark.sql import SparkSession\n",
    "spark = SparkSession.builder.appName('DBAS-Step2-Data Understanding').getOrCreate()\n",
    "\n",
    "# Enable pandas-on-Spark\n",
    "spark.conf.set(\"spark.sql.execution.arrow.pyspark.enabled\", \"true\")\n",
    "\n",
    "#from pyspark.pandas import DataFrame as pds\n",
    "import pyspark.pandas as pds\n",
    "print(pyspark.__version__)\n"
   ]
  },
  {
   "cell_type": "code",
   "execution_count": null,
   "id": "c2d656b0",
   "metadata": {
    "scrolled": true
   },
   "outputs": [],
   "source": [
    "## Load data from csv file\n",
    "spk_df = spark.read.csv(\"Data/heart_failure_dataset_raw.csv\", header=True, inferSchema=True)\n",
    "spk_df.printSchema()\n",
    "\n",
    "# Convert Spark DataFrame to pandas-on-Spark DataFrame using to_pandas_on_spark()\n",
    "spkpd_df = spk_df.to_pandas_on_spark()\n",
    "spkpd_df.head()\n"
   ]
  },
  {
   "cell_type": "code",
   "execution_count": null,
   "id": "d8b33518",
   "metadata": {},
   "outputs": [],
   "source": [
    "# Get summary statistics\n",
    "print(spkpd_df.describe())\n",
    "print(\"--------------------------------------------\")\n",
    "\n",
    "# Transpose and round\n",
    "spkpd_df_desc_transposed_rounded = spkpd_df.describe().transpose().round(2)\n",
    "\n",
    "print(spkpd_df_desc_transposed_rounded)\n",
    "print(\"--------------------------------------------\")\n",
    "\n",
    "# Check data types\n",
    "print(spkpd_df.dtypes)"
   ]
  },
  {
   "cell_type": "code",
   "execution_count": null,
   "id": "790e27a3",
   "metadata": {
    "scrolled": true
   },
   "outputs": [],
   "source": [
    "# describe data\n",
    "spkpd_df['age'].describe()\n",
    "\n",
    "# description of continuous fields\n",
    "spkpd_df_desc_con = spkpd_df[['age','creatinine_phosphokinase',\\\n",
    "                                  'ejection_fraction','platelets',\\\n",
    "                            'serum_creatinine','serum_sodium','time']].describe()\n",
    "spkpd_df_desc_con.round(2)\n",
    "spkpd_df_desc_con.transpose().round(2)"
   ]
  },
  {
   "cell_type": "code",
   "execution_count": null,
   "id": "4a3f799f",
   "metadata": {},
   "outputs": [],
   "source": [
    "# convert the data types\n",
    "print(spkpd_df.dtypes)\n",
    "print(\"--------------------------------------------\")\n",
    "spkpd_df = spkpd_df.astype({\n",
    "    'anaemia' : bool, \n",
    "    'high_blood_pressure' : bool, \n",
    "    'smoking' : bool, \n",
    "    'diabetes' : bool, \n",
    "    'DEATH_EVENT' : bool,\n",
    "    'sex' : bool,\n",
    "    })\n",
    "    \n",
    "print(spkpd_df.dtypes)\n",
    "print(\"--------------------------------------------\")\n",
    "\n",
    "# description of Boolean fields\n",
    "print(spkpd_df['DEATH_EVENT'].value_counts())\n",
    "print(spkpd_df['sex'].value_counts())\n",
    "print(spkpd_df['smoking'].value_counts())\n",
    "print(spkpd_df['anaemia'].value_counts())\n",
    "print(spkpd_df['high_blood_pressure'].value_counts())\n",
    "print(spkpd_df['diabetes'].value_counts())"
   ]
  },
  {
   "cell_type": "code",
   "execution_count": null,
   "id": "ca32b8a5",
   "metadata": {},
   "outputs": [],
   "source": [
    "### ---2.3 Explore data\n",
    "# Add Visualisations\n",
    "import matplotlib.pyplot as plt\n",
    "from pyspark.pandas.config import set_option\n",
    "set_option(\"plotting.backend\", \"matplotlib\")\n",
    "\n",
    "variables = ['DEATH_EVENT', 'smoking', 'anaemia', 'high_blood_pressure', 'diabetes']\n",
    "\n",
    "for var in variables:\n",
    "    fig, ax = plt.subplots()  # Create a new Axes object for each variable\n",
    "    spkpd_df[var].value_counts().plot.bar(ax=ax, color='skyblue')\n",
    "    ax.set_xlabel(var)\n",
    "    ax.set_ylabel('Count')\n",
    "    ax.set_title(f'Distribution of {var}')\n",
    "    plt.show()\n",
    "    \n"
   ]
  },
  {
   "cell_type": "code",
   "execution_count": null,
   "id": "3b709a04",
   "metadata": {},
   "outputs": [],
   "source": [
    "# Distribution of sex\n",
    "\n",
    "fig, ax = plt.subplots()  # Create a new Axes object for each variable\n",
    "spkpd_df['sex'].value_counts().plot.bar(ax=ax)\n",
    "ax.set_xlabel('Sex')\n",
    "ax.set_ylabel('Count')\n",
    "ax.set_title('Distribution of Sex')\n",
    "plt.xticks(ticks=[0, 1], labels=['Female', 'Male'])  # set labels as 'Female' and 'Male'\n",
    "plt.show()"
   ]
  },
  {
   "cell_type": "code",
   "execution_count": null,
   "id": "825a08a4",
   "metadata": {},
   "outputs": [],
   "source": [
    "# distribution of 7 continuous fields  \n",
    "\n",
    "import seaborn as sns\n",
    "\n",
    "variables = ['age', 'creatinine_phosphokinase', 'ejection_fraction','platelets',\\\n",
    "          'serum_creatinine','serum_sodium','time']\n",
    "pandas_df = spkpd_df.to_pandas()\n",
    "\n",
    "for var in variables:\n",
    "    plt.figure()  # create new figure for each field\n",
    "    sns.histplot(pandas_df[var], bins=10, edgecolor='black', color='skyblue')\n",
    "    plt.xlabel(var.capitalize())\n",
    "    plt.ylabel('Count')\n",
    "    plt.title(f'Distribution of {var.capitalize()}')\n",
    "    plt.show()\n"
   ]
  },
  {
   "cell_type": "code",
   "execution_count": null,
   "id": "020f15ee",
   "metadata": {},
   "outputs": [],
   "source": [
    "### ---2.4 Verify the data quality\n",
    "## varify data balance of death-event\n",
    "\n",
    "# Verify the distribution of DEATH_EVENT\n",
    "death_event_counts = spkpd_df['DEATH_EVENT'].value_counts()\n",
    "total = len(spkpd_df)\n",
    "\n",
    "\n",
    "# Plot the bar chart\n",
    "ax = death_event_counts.plot(kind='bar', color=['skyblue', 'salmon'], figsize=(8, 6))\n",
    "\n",
    "\n",
    "# Annotate the count and percentage on each bar\n",
    "for p in ax.patches:\n",
    "    height = p.get_height()\n",
    "    ax.text(p.get_x() + p.get_width() / 2.,\n",
    "            height + 3,\n",
    "            '{:1.2f}% ({})'.format(100 * height / total, height),\n",
    "            ha=\"center\")\n",
    "\n",
    "# Set title and labels\n",
    "plt.xticks(ticks=[0, 1], labels=['Survival', 'Died'])  # set labels as 'Died' and 'survival'\n",
    "plt.title('Distribution of DEATH_EVENT')\n",
    "plt.xlabel('DEATH_EVENT')\n",
    "plt.ylabel('Count')\n",
    "plt.xticks(rotation=0)\n",
    "plt.tight_layout()\n",
    "\n",
    "# Display the plot\n",
    "plt.show()\n",
    "\n"
   ]
  },
  {
   "cell_type": "code",
   "execution_count": null,
   "id": "396c0f98",
   "metadata": {},
   "outputs": [],
   "source": [
    "## Verify the outliners\n",
    "# Detect outliners\n",
    "\n",
    "import seaborn as sns\n",
    "\n",
    "fields = ['creatinine_phosphokinase','platelets','serum_creatinine','serum_sodium']\n",
    "pandas_df = spkpd_df.to_pandas()\n",
    "\n",
    "for field in fields:\n",
    "    plt.figure()  # create new figure for each field\n",
    "    sns.histplot(pandas_df[field], bins=50)\n",
    "    plt.xlabel(field.capitalize())\n",
    "    plt.ylabel('Count')\n",
    "    plt.title(f'Distribution of {field.capitalize()}')\n",
    "    plt.show()\n",
    "    "
   ]
  },
  {
   "cell_type": "code",
   "execution_count": null,
   "id": "f0b57b16",
   "metadata": {},
   "outputs": [],
   "source": [
    "# Stop Spark session\n",
    "spark.stop()"
   ]
  }
 ],
 "metadata": {
  "kernelspec": {
   "display_name": "Python 3 (ipykernel)",
   "language": "python",
   "name": "python3"
  },
  "language_info": {
   "codemirror_mode": {
    "name": "ipython",
    "version": 3
   },
   "file_extension": ".py",
   "mimetype": "text/x-python",
   "name": "python",
   "nbconvert_exporter": "python",
   "pygments_lexer": "ipython3",
   "version": "3.10.12"
  }
 },
 "nbformat": 4,
 "nbformat_minor": 5
}
