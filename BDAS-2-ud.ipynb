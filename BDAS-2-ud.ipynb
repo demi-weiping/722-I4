{
 "cells": [
  {
   "cell_type": "code",
   "execution_count": 1,
   "id": "ca0a9566",
   "metadata": {},
   "outputs": [
    {
     "name": "stderr",
     "output_type": "stream",
     "text": [
      "WARNING: An illegal reflective access operation has occurred\n",
      "WARNING: Illegal reflective access by org.apache.spark.unsafe.Platform (file:/home/ubuntu/spark-3.2.1-bin-hadoop2.7/jars/spark-unsafe_2.12-3.2.1.jar) to constructor java.nio.DirectByteBuffer(long,int)\n",
      "WARNING: Please consider reporting this to the maintainers of org.apache.spark.unsafe.Platform\n",
      "WARNING: Use --illegal-access=warn to enable warnings of further illegal reflective access operations\n",
      "WARNING: All illegal access operations will be denied in a future release\n",
      "Using Spark's default log4j profile: org/apache/spark/log4j-defaults.properties\n",
      "Setting default log level to \"WARN\".\n",
      "To adjust logging level use sc.setLogLevel(newLevel). For SparkR, use setLogLevel(newLevel).\n",
      "23/10/07 00:24:52 WARN NativeCodeLoader: Unable to load native-hadoop library for your platform... using builtin-java classes where applicable\n",
      "WARNING:root:'PYARROW_IGNORE_TIMEZONE' environment variable was not set. It is required to set this environment variable to '1' in both driver and executor sides if you use pyarrow>=2.0.0. pandas-on-Spark will set it for you but it does not work if there is a Spark context already launched.\n"
     ]
    },
    {
     "name": "stdout",
     "output_type": "stream",
     "text": [
      "3.2.1\n"
     ]
    }
   ],
   "source": [
    "# Must be included at the beginning of each new notebook. Remember to change the app name.\n",
    "import findspark\n",
    "findspark.init('/home/ubuntu/spark-3.2.1-bin-hadoop2.7')\n",
    "import pyspark\n",
    "from pyspark.sql import SparkSession\n",
    "spark = SparkSession.builder.appName('DBAS-2-DU').getOrCreate()\n",
    "\n",
    "# Enable pandas-on-Spark\n",
    "spark.conf.set(\"spark.sql.execution.arrow.pyspark.enabled\", \"true\")\n",
    "\n",
    "#from pyspark.pandas import DataFrame as pds\n",
    "import pyspark.pandas as ps\n",
    "print(pyspark.__version__)\n"
   ]
  },
  {
   "cell_type": "code",
   "execution_count": 2,
   "id": "c2d656b0",
   "metadata": {
    "scrolled": true
   },
   "outputs": [
    {
     "name": "stderr",
     "output_type": "stream",
     "text": [
      "23/10/07 00:25:11 WARN WindowExec: No Partition Defined for Window operation! Moving all data to a single partition, this can cause serious performance degradation.\n",
      "23/10/07 00:25:11 WARN WindowExec: No Partition Defined for Window operation! Moving all data to a single partition, this can cause serious performance degradation.\n",
      "                                                                                \r"
     ]
    },
    {
     "data": {
      "text/html": [
       "<div>\n",
       "<style scoped>\n",
       "    .dataframe tbody tr th:only-of-type {\n",
       "        vertical-align: middle;\n",
       "    }\n",
       "\n",
       "    .dataframe tbody tr th {\n",
       "        vertical-align: top;\n",
       "    }\n",
       "\n",
       "    .dataframe thead th {\n",
       "        text-align: right;\n",
       "    }\n",
       "</style>\n",
       "<table border=\"1\" class=\"dataframe\">\n",
       "  <thead>\n",
       "    <tr style=\"text-align: right;\">\n",
       "      <th></th>\n",
       "      <th>age</th>\n",
       "      <th>anaemia</th>\n",
       "      <th>creatinine_phosphokinase</th>\n",
       "      <th>diabetes</th>\n",
       "      <th>ejection_fraction</th>\n",
       "      <th>high_blood_pressure</th>\n",
       "      <th>platelets</th>\n",
       "      <th>serum_creatinine</th>\n",
       "      <th>serum_sodium</th>\n",
       "      <th>sex</th>\n",
       "      <th>smoking</th>\n",
       "      <th>time</th>\n",
       "      <th>DEATH_EVENT</th>\n",
       "    </tr>\n",
       "  </thead>\n",
       "  <tbody>\n",
       "    <tr>\n",
       "      <th>0</th>\n",
       "      <td>75.0</td>\n",
       "      <td>0</td>\n",
       "      <td>582</td>\n",
       "      <td>0</td>\n",
       "      <td>20</td>\n",
       "      <td>1</td>\n",
       "      <td>265000.00</td>\n",
       "      <td>1.9</td>\n",
       "      <td>130</td>\n",
       "      <td>1</td>\n",
       "      <td>0</td>\n",
       "      <td>4</td>\n",
       "      <td>1</td>\n",
       "    </tr>\n",
       "    <tr>\n",
       "      <th>1</th>\n",
       "      <td>55.0</td>\n",
       "      <td>0</td>\n",
       "      <td>7861</td>\n",
       "      <td>0</td>\n",
       "      <td>38</td>\n",
       "      <td>0</td>\n",
       "      <td>263358.03</td>\n",
       "      <td>1.1</td>\n",
       "      <td>136</td>\n",
       "      <td>1</td>\n",
       "      <td>0</td>\n",
       "      <td>6</td>\n",
       "      <td>1</td>\n",
       "    </tr>\n",
       "    <tr>\n",
       "      <th>2</th>\n",
       "      <td>65.0</td>\n",
       "      <td>0</td>\n",
       "      <td>146</td>\n",
       "      <td>0</td>\n",
       "      <td>20</td>\n",
       "      <td>0</td>\n",
       "      <td>162000.00</td>\n",
       "      <td>1.3</td>\n",
       "      <td>129</td>\n",
       "      <td>1</td>\n",
       "      <td>1</td>\n",
       "      <td>7</td>\n",
       "      <td>1</td>\n",
       "    </tr>\n",
       "    <tr>\n",
       "      <th>3</th>\n",
       "      <td>50.0</td>\n",
       "      <td>1</td>\n",
       "      <td>111</td>\n",
       "      <td>0</td>\n",
       "      <td>20</td>\n",
       "      <td>0</td>\n",
       "      <td>210000.00</td>\n",
       "      <td>1.9</td>\n",
       "      <td>137</td>\n",
       "      <td>1</td>\n",
       "      <td>0</td>\n",
       "      <td>7</td>\n",
       "      <td>1</td>\n",
       "    </tr>\n",
       "    <tr>\n",
       "      <th>4</th>\n",
       "      <td>65.0</td>\n",
       "      <td>1</td>\n",
       "      <td>160</td>\n",
       "      <td>1</td>\n",
       "      <td>20</td>\n",
       "      <td>0</td>\n",
       "      <td>327000.00</td>\n",
       "      <td>2.7</td>\n",
       "      <td>116</td>\n",
       "      <td>0</td>\n",
       "      <td>0</td>\n",
       "      <td>8</td>\n",
       "      <td>1</td>\n",
       "    </tr>\n",
       "  </tbody>\n",
       "</table>\n",
       "</div>"
      ],
      "text/plain": [
       "    age  anaemia  creatinine_phosphokinase  diabetes  ejection_fraction  high_blood_pressure  platelets  serum_creatinine  serum_sodium  sex  smoking  time  DEATH_EVENT\n",
       "0  75.0        0                       582         0                 20                    1  265000.00               1.9           130    1        0     4            1\n",
       "1  55.0        0                      7861         0                 38                    0  263358.03               1.1           136    1        0     6            1\n",
       "2  65.0        0                       146         0                 20                    0  162000.00               1.3           129    1        1     7            1\n",
       "3  50.0        1                       111         0                 20                    0  210000.00               1.9           137    1        0     7            1\n",
       "4  65.0        1                       160         1                 20                    0  327000.00               2.7           116    0        0     8            1"
      ]
     },
     "execution_count": 2,
     "metadata": {},
     "output_type": "execute_result"
    }
   ],
   "source": [
    "## Load data from csv file\n",
    "spk_df = spark.read.csv(\"Data/heart_failure_dataset.csv\", header=True, inferSchema=True)\n",
    "\n",
    "# Convert Spark DataFrame to pandas-on-Spark DataFrame using to_pandas_on_spark()\n",
    "spkpd_df = spk_df.to_pandas_on_spark()\n",
    "\n",
    "spkpd_df.head()\n"
   ]
  },
  {
   "cell_type": "code",
   "execution_count": 3,
   "id": "d8b33518",
   "metadata": {},
   "outputs": [
    {
     "name": "stderr",
     "output_type": "stream",
     "text": [
      "                                                                                \r"
     ]
    },
    {
     "name": "stdout",
     "output_type": "stream",
     "text": [
      "              age     anaemia  creatinine_phosphokinase    diabetes  ejection_fraction  high_blood_pressure      platelets  serum_creatinine  serum_sodium         sex    smoking        time  DEATH_EVENT\n",
      "count  299.000000  299.000000                299.000000  299.000000         299.000000           299.000000     299.000000         299.00000    299.000000  299.000000  299.00000  299.000000    299.00000\n",
      "mean    60.833893    0.431438                581.839465    0.418060          38.083612             0.351171  263358.029264           1.39388    136.625418    0.648829    0.32107  130.260870      0.32107\n",
      "std     11.894809    0.496107                970.287881    0.494067          11.834841             0.478136   97804.236869           1.03451      4.412477    0.478136    0.46767   77.614208      0.46767\n",
      "min     40.000000    0.000000                 23.000000    0.000000          14.000000             0.000000   25100.000000           0.50000    113.000000    0.000000    0.00000    4.000000      0.00000\n",
      "25%     51.000000    0.000000                115.000000    0.000000          30.000000             0.000000  212000.000000           0.90000    134.000000    0.000000    0.00000   73.000000      0.00000\n",
      "50%     60.000000    0.000000                250.000000    0.000000          38.000000             0.000000  262000.000000           1.10000    137.000000    1.000000    0.00000  115.000000      0.00000\n",
      "75%     70.000000    1.000000                582.000000    1.000000          45.000000             1.000000  304000.000000           1.40000    140.000000    1.000000    1.00000  205.000000      1.00000\n",
      "max     95.000000    1.000000               7861.000000    1.000000          80.000000             1.000000  850000.000000           9.40000    148.000000    1.000000    1.00000  285.000000      1.00000\n",
      "--------------------------------------------\n",
      "                          count       mean       std      min       25%       50%       75%       max\n",
      "age                       299.0      60.83     11.89     40.0      51.0      60.0      70.0      95.0\n",
      "anaemia                   299.0       0.43      0.50      0.0       0.0       0.0       1.0       1.0\n",
      "creatinine_phosphokinase  299.0     581.84    970.29     23.0     115.0     250.0     582.0    7861.0\n",
      "diabetes                  299.0       0.42      0.49      0.0       0.0       0.0       1.0       1.0\n",
      "ejection_fraction         299.0      38.08     11.83     14.0      30.0      38.0      45.0      80.0\n",
      "high_blood_pressure       299.0       0.35      0.48      0.0       0.0       0.0       1.0       1.0\n",
      "platelets                 299.0  263358.03  97804.24  25100.0  212000.0  262000.0  304000.0  850000.0\n",
      "serum_creatinine          299.0       1.39      1.03      0.5       0.9       1.1       1.4       9.4\n",
      "serum_sodium              299.0     136.63      4.41    113.0     134.0     137.0     140.0     148.0\n",
      "sex                       299.0       0.65      0.48      0.0       0.0       1.0       1.0       1.0\n",
      "smoking                   299.0       0.32      0.47      0.0       0.0       0.0       1.0       1.0\n",
      "time                      299.0     130.26     77.61      4.0      73.0     115.0     205.0     285.0\n",
      "DEATH_EVENT               299.0       0.32      0.47      0.0       0.0       0.0       1.0       1.0\n",
      "--------------------------------------------\n",
      "age                         float64\n",
      "anaemia                       int32\n",
      "creatinine_phosphokinase      int32\n",
      "diabetes                      int32\n",
      "ejection_fraction             int32\n",
      "high_blood_pressure           int32\n",
      "platelets                   float64\n",
      "serum_creatinine            float64\n",
      "serum_sodium                  int32\n",
      "sex                           int32\n",
      "smoking                       int32\n",
      "time                          int32\n",
      "DEATH_EVENT                   int32\n",
      "dtype: object\n"
     ]
    }
   ],
   "source": [
    "# Get summary statistics\n",
    "print(spkpd_df.describe())\n",
    "print(\"--------------------------------------------\")\n",
    "\n",
    "# Use the round() method on the DataFrame\n",
    "# spkpd_df_desc = spkpd_df.describe().round(2)\n",
    "\n",
    "# Transpose and round\n",
    "# spkpd_df_desc_transposed_rounded = spkpd_df_desc.transpose().round(2)\n",
    "spkpd_df_desc_transposed_rounded = spkpd_df.describe().transpose().round(2)\n",
    "\n",
    "\n",
    "print(spkpd_df_desc_transposed_rounded)\n",
    "print(\"--------------------------------------------\")\n",
    "\n",
    "# Check data types\n",
    "print(spkpd_df.dtypes)"
   ]
  },
  {
   "cell_type": "code",
   "execution_count": 4,
   "id": "790e27a3",
   "metadata": {},
   "outputs": [
    {
     "data": {
      "text/html": [
       "<div>\n",
       "<style scoped>\n",
       "    .dataframe tbody tr th:only-of-type {\n",
       "        vertical-align: middle;\n",
       "    }\n",
       "\n",
       "    .dataframe tbody tr th {\n",
       "        vertical-align: top;\n",
       "    }\n",
       "\n",
       "    .dataframe thead th {\n",
       "        text-align: right;\n",
       "    }\n",
       "</style>\n",
       "<table border=\"1\" class=\"dataframe\">\n",
       "  <thead>\n",
       "    <tr style=\"text-align: right;\">\n",
       "      <th></th>\n",
       "      <th>count</th>\n",
       "      <th>mean</th>\n",
       "      <th>std</th>\n",
       "      <th>min</th>\n",
       "      <th>25%</th>\n",
       "      <th>50%</th>\n",
       "      <th>75%</th>\n",
       "      <th>max</th>\n",
       "    </tr>\n",
       "  </thead>\n",
       "  <tbody>\n",
       "    <tr>\n",
       "      <th>age</th>\n",
       "      <td>299.0</td>\n",
       "      <td>60.83</td>\n",
       "      <td>11.89</td>\n",
       "      <td>40.0</td>\n",
       "      <td>51.0</td>\n",
       "      <td>60.0</td>\n",
       "      <td>70.0</td>\n",
       "      <td>95.0</td>\n",
       "    </tr>\n",
       "    <tr>\n",
       "      <th>creatinine_phosphokinase</th>\n",
       "      <td>299.0</td>\n",
       "      <td>581.84</td>\n",
       "      <td>970.29</td>\n",
       "      <td>23.0</td>\n",
       "      <td>115.0</td>\n",
       "      <td>250.0</td>\n",
       "      <td>582.0</td>\n",
       "      <td>7861.0</td>\n",
       "    </tr>\n",
       "    <tr>\n",
       "      <th>ejection_fraction</th>\n",
       "      <td>299.0</td>\n",
       "      <td>38.08</td>\n",
       "      <td>11.83</td>\n",
       "      <td>14.0</td>\n",
       "      <td>30.0</td>\n",
       "      <td>38.0</td>\n",
       "      <td>45.0</td>\n",
       "      <td>80.0</td>\n",
       "    </tr>\n",
       "    <tr>\n",
       "      <th>platelets</th>\n",
       "      <td>299.0</td>\n",
       "      <td>263358.03</td>\n",
       "      <td>97804.24</td>\n",
       "      <td>25100.0</td>\n",
       "      <td>212000.0</td>\n",
       "      <td>262000.0</td>\n",
       "      <td>304000.0</td>\n",
       "      <td>850000.0</td>\n",
       "    </tr>\n",
       "    <tr>\n",
       "      <th>serum_creatinine</th>\n",
       "      <td>299.0</td>\n",
       "      <td>1.39</td>\n",
       "      <td>1.03</td>\n",
       "      <td>0.5</td>\n",
       "      <td>0.9</td>\n",
       "      <td>1.1</td>\n",
       "      <td>1.4</td>\n",
       "      <td>9.4</td>\n",
       "    </tr>\n",
       "    <tr>\n",
       "      <th>serum_sodium</th>\n",
       "      <td>299.0</td>\n",
       "      <td>136.63</td>\n",
       "      <td>4.41</td>\n",
       "      <td>113.0</td>\n",
       "      <td>134.0</td>\n",
       "      <td>137.0</td>\n",
       "      <td>140.0</td>\n",
       "      <td>148.0</td>\n",
       "    </tr>\n",
       "    <tr>\n",
       "      <th>time</th>\n",
       "      <td>299.0</td>\n",
       "      <td>130.26</td>\n",
       "      <td>77.61</td>\n",
       "      <td>4.0</td>\n",
       "      <td>73.0</td>\n",
       "      <td>115.0</td>\n",
       "      <td>205.0</td>\n",
       "      <td>285.0</td>\n",
       "    </tr>\n",
       "  </tbody>\n",
       "</table>\n",
       "</div>"
      ],
      "text/plain": [
       "                          count       mean       std      min       25%       50%       75%       max\n",
       "age                       299.0      60.83     11.89     40.0      51.0      60.0      70.0      95.0\n",
       "creatinine_phosphokinase  299.0     581.84    970.29     23.0     115.0     250.0     582.0    7861.0\n",
       "ejection_fraction         299.0      38.08     11.83     14.0      30.0      38.0      45.0      80.0\n",
       "platelets                 299.0  263358.03  97804.24  25100.0  212000.0  262000.0  304000.0  850000.0\n",
       "serum_creatinine          299.0       1.39      1.03      0.5       0.9       1.1       1.4       9.4\n",
       "serum_sodium              299.0     136.63      4.41    113.0     134.0     137.0     140.0     148.0\n",
       "time                      299.0     130.26     77.61      4.0      73.0     115.0     205.0     285.0"
      ]
     },
     "execution_count": 4,
     "metadata": {},
     "output_type": "execute_result"
    }
   ],
   "source": [
    "# describe data\n",
    "spkpd_df['age'].describe()\n",
    "\n",
    "# description of continuous fields\n",
    "spkpd_df_desc_con = spkpd_df[['age','creatinine_phosphokinase',\\\n",
    "                                  'ejection_fraction','platelets',\\\n",
    "                            'serum_creatinine','serum_sodium','time']].describe()\n",
    "spkpd_df_desc_con.round(2)\n",
    "spkpd_df_desc_con.transpose().round(2)"
   ]
  },
  {
   "cell_type": "code",
   "execution_count": 5,
   "id": "4a3f799f",
   "metadata": {},
   "outputs": [
    {
     "name": "stdout",
     "output_type": "stream",
     "text": [
      "age                         float64\n",
      "anaemia                       int32\n",
      "creatinine_phosphokinase      int32\n",
      "diabetes                      int32\n",
      "ejection_fraction             int32\n",
      "high_blood_pressure           int32\n",
      "platelets                   float64\n",
      "serum_creatinine            float64\n",
      "serum_sodium                  int32\n",
      "sex                           int32\n",
      "smoking                       int32\n",
      "time                          int32\n",
      "DEATH_EVENT                   int32\n",
      "dtype: object\n",
      "--------------------------------------------\n",
      "age                         float64\n",
      "anaemia                        bool\n",
      "creatinine_phosphokinase      int32\n",
      "diabetes                       bool\n",
      "ejection_fraction             int32\n",
      "high_blood_pressure            bool\n",
      "platelets                   float64\n",
      "serum_creatinine            float64\n",
      "serum_sodium                  int32\n",
      "sex                            bool\n",
      "smoking                        bool\n",
      "time                          int32\n",
      "DEATH_EVENT                    bool\n",
      "dtype: object\n",
      "--------------------------------------------\n",
      "False    203\n",
      "True      96\n",
      "Name: DEATH_EVENT, dtype: int64\n",
      "True     194\n",
      "False    105\n",
      "Name: sex, dtype: int64\n",
      "False    203\n",
      "True      96\n",
      "Name: smoking, dtype: int64\n",
      "False    170\n",
      "True     129\n",
      "Name: anaemia, dtype: int64\n",
      "False    194\n",
      "True     105\n",
      "Name: high_blood_pressure, dtype: int64\n",
      "False    174\n",
      "True     125\n",
      "Name: diabetes, dtype: int64\n"
     ]
    }
   ],
   "source": [
    "# convert the data types\n",
    "print(spkpd_df.dtypes)\n",
    "print(\"--------------------------------------------\")\n",
    "spkpd_df = spkpd_df.astype({\n",
    "    'anaemia' : bool, \n",
    "    'high_blood_pressure' : bool, \n",
    "    'smoking' : bool, \n",
    "    'diabetes' : bool, \n",
    "    'DEATH_EVENT' : bool,\n",
    "    'sex' : bool,\n",
    "    })\n",
    "    \n",
    "print(spkpd_df.dtypes)\n",
    "print(\"--------------------------------------------\")\n",
    "\n",
    "# description of Boolean fields\n",
    "print(spkpd_df['DEATH_EVENT'].value_counts())\n",
    "print(spkpd_df['sex'].value_counts())\n",
    "print(spkpd_df['smoking'].value_counts())\n",
    "print(spkpd_df['anaemia'].value_counts())\n",
    "print(spkpd_df['high_blood_pressure'].value_counts())\n",
    "print(spkpd_df['diabetes'].value_counts())"
   ]
  },
  {
   "cell_type": "code",
   "execution_count": 6,
   "id": "ca32b8a5",
   "metadata": {},
   "outputs": [
    {
     "data": {
      "image/png": "[encoded data removed]",
      "text/plain": [
       "<Figure size 432x288 with 1 Axes>"
      ]
     },
     "metadata": {
      "needs_background": "light"
     },
     "output_type": "display_data"
    },
    {
     "data": {
      "image/png": "[encoded data removed]",
      "text/plain": [
       "<Figure size 432x288 with 1 Axes>"
      ]
     },
     "metadata": {
      "needs_background": "light"
     },
     "output_type": "display_data"
    },
    {
     "data": {
      "image/png": "[encoded data removed]",
      "text/plain": [
       "<Figure size 432x288 with 1 Axes>"
      ]
     },
     "metadata": {
      "needs_background": "light"
     },
     "output_type": "display_data"
    },
    {
     "data": {
      "image/png": "[encoded data removed]",
      "text/plain": [
       "<Figure size 432x288 with 1 Axes>"
      ]
     },
     "metadata": {
      "needs_background": "light"
     },
     "output_type": "display_data"
    },
    {
     "data": {
      "image/png": "[encoded data removed]",
      "text/plain": [
       "<Figure size 432x288 with 1 Axes>"
      ]
     },
     "metadata": {
      "needs_background": "light"
     },
     "output_type": "display_data"
    }
   ],
   "source": [
    "### ---2.3 Explore data\n",
    "# Add Visualisations\n",
    "import matplotlib.pyplot as plt\n",
    "from pyspark.pandas.config import set_option\n",
    "set_option(\"plotting.backend\", \"matplotlib\")\n",
    "\n",
    "variables = ['DEATH_EVENT', 'smoking', 'anaemia', 'high_blood_pressure', 'diabetes']\n",
    "\n",
    "for var in variables:\n",
    "    fig, ax = plt.subplots()  # Create a new Axes object for each variable\n",
    "    spkpd_df[var].value_counts().plot.bar(ax=ax)\n",
    "    ax.set_xlabel(var)\n",
    "    ax.set_ylabel('Count')\n",
    "    ax.set_title(f'Distribution of {var}')\n",
    "    plt.show()\n",
    "    \n"
   ]
  },
  {
   "cell_type": "code",
   "execution_count": 7,
   "id": "3b709a04",
   "metadata": {},
   "outputs": [
    {
     "data": {
      "image/png": "[encoded data removed]",
      "text/plain": [
       "<Figure size 432x288 with 1 Axes>"
      ]
     },
     "metadata": {
      "needs_background": "light"
     },
     "output_type": "display_data"
    }
   ],
   "source": [
    "# Distribution of sex\n",
    "\n",
    "fig, ax = plt.subplots()  # Create a new Axes object for each variable\n",
    "spkpd_df['sex'].value_counts().plot.bar(ax=ax)\n",
    "ax.set_xlabel('Sex')\n",
    "ax.set_ylabel('Count')\n",
    "ax.set_title('Distribution of Sex')\n",
    "plt.xticks(ticks=[0, 1], labels=['Female', 'Male'])  # set labels as 'Female' and 'Male'\n",
    "plt.show()"
   ]
  },
  {
   "cell_type": "code",
   "execution_count": 10,
   "id": "825a08a4",
   "metadata": {},
   "outputs": [
    {
     "name": "stderr",
     "output_type": "stream",
     "text": [
      "23/10/07 00:32:23 WARN WindowExec: No Partition Defined for Window operation! Moving all data to a single partition, this can cause serious performance degradation.\n",
      "23/10/07 00:32:23 WARN WindowExec: No Partition Defined for Window operation! Moving all data to a single partition, this can cause serious performance degradation.\n",
      "23/10/07 00:32:23 WARN WindowExec: No Partition Defined for Window operation! Moving all data to a single partition, this can cause serious performance degradation.\n"
     ]
    },
    {
     "data": {
      "image/png": "[encoded data removed]",
      "text/plain": [
       "<Figure size 432x288 with 1 Axes>"
      ]
     },
     "metadata": {
      "needs_background": "light"
     },
     "output_type": "display_data"
    },
    {
     "data": {
      "text/plain": [
       "\"\\nfig, ax = plt.subplots()\\nspkpd_df['age'].plot.hist(ax=ax, bins=20, edgecolor='black') \\nax.set_xlabel('Age')\\nax.set_ylabel('Count')\\nax.set_title('Distribution of Age')\\nplt.show()\\n\""
      ]
     },
     "execution_count": 10,
     "metadata": {},
     "output_type": "execute_result"
    }
   ],
   "source": [
    "# distribution of 7 continuous fields  \n",
    "# 1.Distribution of age\n",
    "\n",
    "import seaborn as sns\n",
    "\n",
    "pandas_df = spkpd_df.to_pandas()\n",
    "sns.histplot(pandas_df['age'], bins=20, edgecolor='black')\n",
    "plt.xlabel('Age')\n",
    "plt.ylabel('Count')\n",
    "plt.title('Distribution of Age')\n",
    "plt.show()\n",
    "\n",
    "\"\"\"\n",
    "fig, ax = plt.subplots()\n",
    "spkpd_df['age'].plot.hist(ax=ax, bins=20, edgecolor='black') \n",
    "ax.set_xlabel('Age')\n",
    "ax.set_ylabel('Count')\n",
    "ax.set_title('Distribution of Age')\n",
    "plt.show()\n",
    "\"\"\"\n",
    "\n"
   ]
  },
  {
   "cell_type": "code",
   "execution_count": null,
   "id": "020f15ee",
   "metadata": {},
   "outputs": [],
   "source": []
  }
 ],
 "metadata": {
  "kernelspec": {
   "display_name": "Python 3 (ipykernel)",
   "language": "python",
   "name": "python3"
  },
  "language_info": {
   "codemirror_mode": {
    "name": "ipython",
    "version": 3
   },
   "file_extension": ".py",
   "mimetype": "text/x-python",
   "name": "python",
   "nbconvert_exporter": "python",
   "pygments_lexer": "ipython3",
   "version": "3.10.4"
  }
 },
 "nbformat": 4,
 "nbformat_minor": 5
}
