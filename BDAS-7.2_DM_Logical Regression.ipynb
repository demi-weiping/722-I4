{
 "cells": [
  {
   "cell_type": "markdown",
   "id": "7a5a3005",
   "metadata": {},
   "source": [
    "# Step 7： Data Mining\n",
    "\n",
    "# Logistic Regression"
   ]
  },
  {
   "cell_type": "code",
   "execution_count": null,
   "id": "6cd226d5",
   "metadata": {},
   "outputs": [],
   "source": [
    "\n",
    "# Must be included at the beginning of each new notebook. Remember to change the app name.\n",
    "import findspark\n",
    "findspark.init('/home/ubuntu/spark-3.2.1-bin-hadoop2.7')\n",
    "import pyspark\n",
    "from pyspark.sql import SparkSession\n",
    "spark = SparkSession.builder.appName('DBAS-Step7-DM-LogisticRegression').getOrCreate()\n",
    "\n",
    "# Enable pandas-on-Spark\n",
    "spark.conf.set(\"spark.sql.execution.arrow.pyspark.enabled\", \"true\")"
   ]
  },
  {
   "cell_type": "code",
   "execution_count": null,
   "id": "9f447eca",
   "metadata": {},
   "outputs": [],
   "source": [
    "## Load data from csv file\n",
    "spk_df = spark.read.csv(\"Data/4DT/heart_failure_dataset_4DT.csv\", header=True, inferSchema=True)\n",
    "spk_df.printSchema\n",
    "\n",
    "# Convert Spark DataFrame to pandas-on-Spark DataFrame using to_pandas_on_spark()\n",
    "spkpd_df = spk_df.to_pandas_on_spark()\n",
    "spkpd_df.info()\n"
   ]
  },
  {
   "cell_type": "code",
   "execution_count": null,
   "id": "46a10281",
   "metadata": {},
   "outputs": [],
   "source": [
    "### --------  06-DMA\n",
    "# Load relevant algorithms for Logical Regression model\n",
    "\n",
    "from pyspark.sql import SparkSession\n",
    "from pyspark.ml.feature import VectorAssembler\n",
    "from pyspark.ml.classification import LogisticRegression\n"
   ]
  },
  {
   "cell_type": "code",
   "execution_count": null,
   "id": "42edf5c8",
   "metadata": {},
   "outputs": [],
   "source": [
    "# Use VectorAssembler to transform features into a single feature vector\n",
    "assembler = VectorAssembler(inputCols=[\"creatinine_phosphokinase\", \n",
    "                                       \"ejection_fraction\", \n",
    "                                       \"platelets\", \n",
    "                                       \"serum_creatinine\", \n",
    "                                       \"serum_sodium\"], \n",
    "                            outputCol=\"features\")\n",
    "\n",
    "\n",
    "\n",
    "spk_df = assembler.transform(spk_df)\n",
    "\n",
    "# Split the dataset into training and testing sets\n",
    "train_data, test_data = spk_df.randomSplit([0.8, 0.2])\n",
    "\n",
    "# Create and train a logistic regression model\n",
    "lr = LogisticRegression(featuresCol=\"features\", labelCol=\"DEATH_EVENT\")\n",
    "model = lr.fit(train_data)"
   ]
  },
  {
   "cell_type": "code",
   "execution_count": null,
   "id": "8e980e1e",
   "metadata": {},
   "outputs": [],
   "source": [
    "from pyspark.ml.evaluation import BinaryClassificationEvaluator\n",
    "\n",
    "# Predict using model\n",
    "predictions = model.transform(test_data)\n",
    "\n",
    "# Evaluate accuracy\n",
    "evaluator = BinaryClassificationEvaluator(rawPredictionCol=\"rawPrediction\", \n",
    "                                          labelCol=\"DEATH_EVENT\")\n",
    "\n",
    "accuracy = evaluator.evaluate(predictions)\n",
    "print(f\"Accuracy: {accuracy}\")\n"
   ]
  },
  {
   "cell_type": "code",
   "execution_count": null,
   "id": "b5aacd68",
   "metadata": {},
   "outputs": [],
   "source": [
    "import pandas as pd\n",
    "import matplotlib.pyplot as plt\n",
    "\n",
    "# Get the coefficients from the model\n",
    "coefficients = model.coefficients.toArray()\n",
    "\n",
    "# Create a DataFrame to display features and their corresponding coefficients\n",
    "feature_importance = pd.DataFrame({\"Feature\": [\"creatinine_phosphokinase\", \n",
    "                                               \"ejection_fraction\", \n",
    "                                               \"platelets\", \n",
    "                                               \"serum_creatinine\", \n",
    "                                               \"serum_sodium\"], \n",
    "                                   \"Coefficient\": coefficients})\n",
    "\n",
    "# Sort the features based on the absolute value of coefficients\n",
    "feature_importance = feature_importance.sort_values(by=\"Coefficient\", key=abs, ascending=False)\n",
    "print(feature_importance)\n",
    "\n",
    "# Visualize the importance of features\n",
    "plt.figure(figsize=(10, 6))\n",
    "plt.barh(feature_importance[\"Feature\"], feature_importance[\"Coefficient\"], color='skyblue')\n",
    "plt.xlabel('Coefficient Value')\n",
    "plt.ylabel('Feature')\n",
    "plt.title('Feature Importance based on Coefficients')\n",
    "plt.gca().invert_yaxis()  # To display the most important feature at the top\n",
    "plt.show()"
   ]
  },
  {
   "cell_type": "code",
   "execution_count": null,
   "id": "24f92b4e",
   "metadata": {},
   "outputs": [],
   "source": [
    "# Stop Spark session\n",
    "spark.stop()"
   ]
  }
 ],
 "metadata": {
  "kernelspec": {
   "display_name": "Python 3 (ipykernel)",
   "language": "python",
   "name": "python3"
  },
  "language_info": {
   "codemirror_mode": {
    "name": "ipython",
    "version": 3
   },
   "file_extension": ".py",
   "mimetype": "text/x-python",
   "name": "python",
   "nbconvert_exporter": "python",
   "pygments_lexer": "ipython3",
   "version": "3.10.12"
  }
 },
 "nbformat": 4,
 "nbformat_minor": 5
}
